{
  "cells": [
    {
      "cell_type": "code",
      "execution_count": null,
      "metadata": {
        "colab": {
          "base_uri": "https://localhost:8080/"
        },
        "id": "5NsMETm2M-Hp",
        "outputId": "01032cf3-5568-4da0-9056-277bf3897505"
      },
      "outputs": [
        {
          "output_type": "stream",
          "name": "stdout",
          "text": [
            "[nltk_data] Downloading package stopwords to /root/nltk_data...\n",
            "[nltk_data]   Unzipping corpora/stopwords.zip.\n"
          ]
        }
      ],
      "source": [
        "import numpy as np\n",
        "import pandas as pd\n",
        "from nltk.corpus import stopwords\n",
        "import nltk\n",
        "nltk.download('stopwords')\n",
        "from wordcloud import WordCloud, STOPWORDS\n",
        "import re\n",
        "import string\n",
        "import matplotlib.pyplot as plt\n",
        "from sklearn.model_selection import train_test_split\n",
        "from sklearn.feature_extraction.text import TfidfVectorizer\n",
        "from sklearn.linear_model import LogisticRegression\n",
        "from sklearn.metrics import accuracy_score, confusion_matrix\n",
        "from sklearn.metrics import roc_auc_score, confusion_matrix\n",
        "from sklearn.metrics import roc_curve\n",
        "from sklearn.neighbors import KNeighborsClassifier\n",
        "from sklearn.naive_bayes import GaussianNB, MultinomialNB\n",
        "from sklearn.svm import SVC\n",
        "from sklearn.tree import DecisionTreeClassifier\n",
        "from sklearn.ensemble import RandomForestClassifier\n",
        "from sklearn.ensemble import GradientBoostingClassifier\n",
        "import xgboost as xgb\n",
        "from sklearn.feature_extraction.text import CountVectorizer\n",
        "from torch import nn\n",
        "import torch.optim as optim\n",
        "from torch.utils.data import Dataset, DataLoader\n",
        "import torch\n",
        "from sklearn import preprocessing\n",
        "from sklearn.datasets import make_classification\n",
        "from sklearn.linear_model import LogisticRegression\n",
        "from sklearn.multiclass import OneVsRestClassifier\n",
        "from sklearn.naive_bayes import MultinomialNB\n",
        "from sklearn.metrics import precision_score\n",
        "import seaborn as sns\n",
        "from sklearn.metrics import f1_score"
      ]
    },
    {
      "cell_type": "code",
      "execution_count": null,
      "metadata": {
        "id": "9hCFR-c7NR1w",
        "colab": {
          "base_uri": "https://localhost:8080/",
          "height": 74,
          "resources": {
            "http://localhost:8080/nbextensions/google.colab/files.js": {
              "data": "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",
              "ok": true,
              "headers": [
                [
                  "content-type",
                  "application/javascript"
                ]
              ],
              "status": 200,
              "status_text": ""
            }
          }
        },
        "outputId": "fd6643e7-5a7a-460d-8a5e-70ddc340e731"
      },
      "outputs": [
        {
          "output_type": "display_data",
          "data": {
            "text/plain": [
              "<IPython.core.display.HTML object>"
            ],
            "text/html": [
              "\n",
              "     <input type=\"file\" id=\"files-0ff72844-09e9-4526-bf9c-5516cbdfc12e\" name=\"files[]\" multiple disabled\n",
              "        style=\"border:none\" />\n",
              "     <output id=\"result-0ff72844-09e9-4526-bf9c-5516cbdfc12e\">\n",
              "      Upload widget is only available when the cell has been executed in the\n",
              "      current browser session. Please rerun this cell to enable.\n",
              "      </output>\n",
              "      <script src=\"/nbextensions/google.colab/files.js\"></script> "
            ]
          },
          "metadata": {}
        },
        {
          "output_type": "stream",
          "name": "stdout",
          "text": [
            "Saving sentiment_analysis.csv to sentiment_analysis.csv\n"
          ]
        }
      ],
      "source": [
        "'''try:\n",
        "\n",
        "  from google.colab import files\n",
        "  uploaded = files.upload()\n",
        "\n",
        "except:\n",
        "\n",
        "  pass'''"
      ]
    },
    {
      "cell_type": "code",
      "source": [
        "'''try:\n",
        "\n",
        "  from google.colab import files\n",
        "  uploaded = files.upload()\n",
        "\n",
        "except:\n",
        "\n",
        "  pass'''"
      ],
      "metadata": {
        "colab": {
          "resources": {
            "http://localhost:8080/nbextensions/google.colab/files.js": {
              "data": "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",
              "ok": true,
              "headers": [
                [
                  "content-type",
                  "application/javascript"
                ]
              ],
              "status": 200,
              "status_text": ""
            }
          },
          "base_uri": "https://localhost:8080/",
          "height": 74
        },
        "id": "T9AnqBTJq786",
        "outputId": "29da98fc-f1d9-4c3e-9ce0-ff783d091d26"
      },
      "execution_count": null,
      "outputs": [
        {
          "output_type": "display_data",
          "data": {
            "text/plain": [
              "<IPython.core.display.HTML object>"
            ],
            "text/html": [
              "\n",
              "     <input type=\"file\" id=\"files-f0ec52b1-3c9f-4885-8ebd-ec03e9016970\" name=\"files[]\" multiple disabled\n",
              "        style=\"border:none\" />\n",
              "     <output id=\"result-f0ec52b1-3c9f-4885-8ebd-ec03e9016970\">\n",
              "      Upload widget is only available when the cell has been executed in the\n",
              "      current browser session. Please rerun this cell to enable.\n",
              "      </output>\n",
              "      <script src=\"/nbextensions/google.colab/files.js\"></script> "
            ]
          },
          "metadata": {}
        },
        {
          "output_type": "stream",
          "name": "stdout",
          "text": [
            "Saving Canadian_elections_2021.csv to Canadian_elections_2021.csv\n"
          ]
        }
      ]
    },
    {
      "cell_type": "code",
      "execution_count": null,
      "metadata": {
        "id": "V3il2xExN2eJ"
      },
      "outputs": [],
      "source": [
        "df1 = pd.read_csv('sentiment_analysis.csv')\n",
        "df2 = pd.read_csv('Canadian_elections_2021.csv')"
      ]
    },
    {
      "cell_type": "markdown",
      "source": [
        "# **1. Data cleaning**\n",
        "\n",
        "\n",
        "*   All emojis were removed\n",
        "*   All URLs were removed.\n",
        "\n",
        "*   All characters in the text are in lowercase.\n",
        "*   All stop words are removed.\n",
        "\n",
        "*   All punctuations are removed.\n"
      ],
      "metadata": {
        "id": "E3sukTk1LL5g"
      }
    },
    {
      "cell_type": "code",
      "execution_count": null,
      "metadata": {
        "id": "7rkUGgW1itqd"
      },
      "outputs": [],
      "source": [
        "def preProcessData(df):\n",
        "\n",
        "  def remove_emojis(x):\n",
        "\n",
        "\n",
        "    emoji_pattern = re.compile(\"[\"\n",
        "\n",
        "        u\"\\U0001F600-\\U0001F64F\"  # emoticons\n",
        "        u\"\\U0001F300-\\U0001F5FF\"  # symbols & pictographs\n",
        "        u\"\\U0001F680-\\U0001F6FF\"  # transport & map symbols\n",
        "        u\"\\U0001F1E0-\\U0001F1FF\"  # flags (iOS)\n",
        "        u\"\\U00002500-\\U00002BEF\"  # chinese char\n",
        "        u\"\\U00002702-\\U000027B0\"\n",
        "        u\"\\U00002702-\\U000027B0\"\n",
        "        u\"\\U000024C2-\\U0001F251\"\n",
        "        u\"\\U0001f926-\\U0001f937\"\n",
        "        u\"\\U00010000-\\U0010ffff\"\n",
        "        u\"\\u2640-\\u2642\" \n",
        "        u\"\\u2600-\\u2B55\"\n",
        "        u\"\\u200d\"\n",
        "        u\"\\u23cf\"\n",
        "        u\"\\u23e9\"\n",
        "        u\"\\u231a\"\n",
        "        u\"\\ufe0f\"  # dingbats\n",
        "        u\"\\u3030\"\n",
        "                      \"]+\", flags = re.UNICODE)\n",
        "    return emoji_pattern.sub(r'', x)\n",
        "\n",
        "  \n",
        "  def remove_url(x):\n",
        "    return re.sub('http[s]?://\\S+', '', x)\n",
        "\n",
        " \n",
        "  def to_lowercase(x):\n",
        "    return x.lower()\n",
        "\n",
        "  \n",
        "  def remove_stopwords(x):\n",
        "    x = x.split()\n",
        "    x = ' '.join([i for i in x if i not in STOPWORDS])\n",
        "    return x\n",
        "  \n",
        "  def remove_punc(x):\n",
        "    return re.sub(r'[^\\w\\s]', '', x)\n",
        "  \n",
        "  def remove_spaces(x):\n",
        "    return re.sub(\"\\s+\",\" \", x)\n",
        "\n",
        "  df.loc[:, 'noemoji'] = df.text.apply(remove_emojis)\n",
        "  df.loc[:, 'no_url'] = df.noemoji.apply(remove_url)\n",
        "  df.loc[:, 'lowercase'] = df.no_url.apply(to_lowercase)\n",
        "  df.loc[:, 'no_stopwords'] = df.lowercase.apply(remove_stopwords)\n",
        "  df.loc[:, \"no_punc\"] = df.no_stopwords.apply(remove_punc)\n",
        "  df.loc[:, \"no_spaces\"] = df.no_punc.apply(remove_spaces)\n",
        "  \n",
        "  return df\n",
        "  # We create a sample of the data after each operation so that we can retrieve any one of them for analysis."
      ]
    },
    {
      "cell_type": "code",
      "execution_count": null,
      "metadata": {
        "colab": {
          "base_uri": "https://localhost:8080/",
          "height": 424
        },
        "id": "o7gx7T4fxTMP",
        "outputId": "cc74a08f-355a-47e8-e88c-0163e23b95e7"
      },
      "outputs": [
        {
          "output_type": "execute_result",
          "data": {
            "text/plain": [
              "             ID                                               text  label  \\\n",
              "0  7.680980e+17  Josh Jenkins is looking forward to TAB Breeder...      1   \n",
              "1  7.680980e+17  RT @MianUsmanJaved: Congratulations Pakistan o...      1   \n",
              "2  7.680980e+17  RT @PEPalerts: This September, @YESmag is taki...      1   \n",
              "3  7.680980e+17  RT @david_gaibis: Newly painted walls, thanks ...      1   \n",
              "4  7.680980e+17  RT @CedricFeschotte: Excited to announce: as o...      1   \n",
              "\n",
              "                                             noemoji  \\\n",
              "0  Josh Jenkins is looking forward to TAB Breeder...   \n",
              "1  RT @MianUsmanJaved: Congratulations Pakistan o...   \n",
              "2  RT @PEPalerts: This September, @YESmag is taki...   \n",
              "3  RT @david_gaibis: Newly painted walls, thanks ...   \n",
              "4  RT @CedricFeschotte: Excited to announce: as o...   \n",
              "\n",
              "                                              no_url  \\\n",
              "0  Josh Jenkins is looking forward to TAB Breeder...   \n",
              "1  RT @MianUsmanJaved: Congratulations Pakistan o...   \n",
              "2  RT @PEPalerts: This September, @YESmag is taki...   \n",
              "3  RT @david_gaibis: Newly painted walls, thanks ...   \n",
              "4  RT @CedricFeschotte: Excited to announce: as o...   \n",
              "\n",
              "                                           lowercase  \\\n",
              "0  josh jenkins is looking forward to tab breeder...   \n",
              "1  rt @mianusmanjaved: congratulations pakistan o...   \n",
              "2  rt @pepalerts: this september, @yesmag is taki...   \n",
              "3  rt @david_gaibis: newly painted walls, thanks ...   \n",
              "4  rt @cedricfeschotte: excited to announce: as o...   \n",
              "\n",
              "                                        no_stopwords  \\\n",
              "0  josh jenkins looking forward tab breeders crow...   \n",
              "1  rt @mianusmanjaved: congratulations pakistan b...   \n",
              "2  rt @pepalerts: september, @yesmag taking maine...   \n",
              "3  rt @david_gaibis: newly painted walls, thanks ...   \n",
              "4  rt @cedricfeschotte: excited announce: july 20...   \n",
              "\n",
              "                                             no_punc  \\\n",
              "0  josh jenkins looking forward tab breeders crow...   \n",
              "1  rt mianusmanjaved congratulations pakistan bec...   \n",
              "2  rt pepalerts september yesmag taking maine men...   \n",
              "3  rt david_gaibis newly painted walls thanks mil...   \n",
              "4  rt cedricfeschotte excited announce july 2017 ...   \n",
              "\n",
              "                                           no_spaces  \n",
              "0  josh jenkins looking forward tab breeders crow...  \n",
              "1  rt mianusmanjaved congratulations pakistan bec...  \n",
              "2  rt pepalerts september yesmag taking maine men...  \n",
              "3  rt david_gaibis newly painted walls thanks mil...  \n",
              "4  rt cedricfeschotte excited announce july 2017 ...  "
            ],
            "text/html": [
              "\n",
              "  <div id=\"df-1a4fac90-a798-4a8d-889d-7e3b242dc403\">\n",
              "    <div class=\"colab-df-container\">\n",
              "      <div>\n",
              "<style scoped>\n",
              "    .dataframe tbody tr th:only-of-type {\n",
              "        vertical-align: middle;\n",
              "    }\n",
              "\n",
              "    .dataframe tbody tr th {\n",
              "        vertical-align: top;\n",
              "    }\n",
              "\n",
              "    .dataframe thead th {\n",
              "        text-align: right;\n",
              "    }\n",
              "</style>\n",
              "<table border=\"1\" class=\"dataframe\">\n",
              "  <thead>\n",
              "    <tr style=\"text-align: right;\">\n",
              "      <th></th>\n",
              "      <th>ID</th>\n",
              "      <th>text</th>\n",
              "      <th>label</th>\n",
              "      <th>noemoji</th>\n",
              "      <th>no_url</th>\n",
              "      <th>lowercase</th>\n",
              "      <th>no_stopwords</th>\n",
              "      <th>no_punc</th>\n",
              "      <th>no_spaces</th>\n",
              "    </tr>\n",
              "  </thead>\n",
              "  <tbody>\n",
              "    <tr>\n",
              "      <th>0</th>\n",
              "      <td>7.680980e+17</td>\n",
              "      <td>Josh Jenkins is looking forward to TAB Breeder...</td>\n",
              "      <td>1</td>\n",
              "      <td>Josh Jenkins is looking forward to TAB Breeder...</td>\n",
              "      <td>Josh Jenkins is looking forward to TAB Breeder...</td>\n",
              "      <td>josh jenkins is looking forward to tab breeder...</td>\n",
              "      <td>josh jenkins looking forward tab breeders crow...</td>\n",
              "      <td>josh jenkins looking forward tab breeders crow...</td>\n",
              "      <td>josh jenkins looking forward tab breeders crow...</td>\n",
              "    </tr>\n",
              "    <tr>\n",
              "      <th>1</th>\n",
              "      <td>7.680980e+17</td>\n",
              "      <td>RT @MianUsmanJaved: Congratulations Pakistan o...</td>\n",
              "      <td>1</td>\n",
              "      <td>RT @MianUsmanJaved: Congratulations Pakistan o...</td>\n",
              "      <td>RT @MianUsmanJaved: Congratulations Pakistan o...</td>\n",
              "      <td>rt @mianusmanjaved: congratulations pakistan o...</td>\n",
              "      <td>rt @mianusmanjaved: congratulations pakistan b...</td>\n",
              "      <td>rt mianusmanjaved congratulations pakistan bec...</td>\n",
              "      <td>rt mianusmanjaved congratulations pakistan bec...</td>\n",
              "    </tr>\n",
              "    <tr>\n",
              "      <th>2</th>\n",
              "      <td>7.680980e+17</td>\n",
              "      <td>RT @PEPalerts: This September, @YESmag is taki...</td>\n",
              "      <td>1</td>\n",
              "      <td>RT @PEPalerts: This September, @YESmag is taki...</td>\n",
              "      <td>RT @PEPalerts: This September, @YESmag is taki...</td>\n",
              "      <td>rt @pepalerts: this september, @yesmag is taki...</td>\n",
              "      <td>rt @pepalerts: september, @yesmag taking maine...</td>\n",
              "      <td>rt pepalerts september yesmag taking maine men...</td>\n",
              "      <td>rt pepalerts september yesmag taking maine men...</td>\n",
              "    </tr>\n",
              "    <tr>\n",
              "      <th>3</th>\n",
              "      <td>7.680980e+17</td>\n",
              "      <td>RT @david_gaibis: Newly painted walls, thanks ...</td>\n",
              "      <td>1</td>\n",
              "      <td>RT @david_gaibis: Newly painted walls, thanks ...</td>\n",
              "      <td>RT @david_gaibis: Newly painted walls, thanks ...</td>\n",
              "      <td>rt @david_gaibis: newly painted walls, thanks ...</td>\n",
              "      <td>rt @david_gaibis: newly painted walls, thanks ...</td>\n",
              "      <td>rt david_gaibis newly painted walls thanks mil...</td>\n",
              "      <td>rt david_gaibis newly painted walls thanks mil...</td>\n",
              "    </tr>\n",
              "    <tr>\n",
              "      <th>4</th>\n",
              "      <td>7.680980e+17</td>\n",
              "      <td>RT @CedricFeschotte: Excited to announce: as o...</td>\n",
              "      <td>1</td>\n",
              "      <td>RT @CedricFeschotte: Excited to announce: as o...</td>\n",
              "      <td>RT @CedricFeschotte: Excited to announce: as o...</td>\n",
              "      <td>rt @cedricfeschotte: excited to announce: as o...</td>\n",
              "      <td>rt @cedricfeschotte: excited announce: july 20...</td>\n",
              "      <td>rt cedricfeschotte excited announce july 2017 ...</td>\n",
              "      <td>rt cedricfeschotte excited announce july 2017 ...</td>\n",
              "    </tr>\n",
              "  </tbody>\n",
              "</table>\n",
              "</div>\n",
              "      <button class=\"colab-df-convert\" onclick=\"convertToInteractive('df-1a4fac90-a798-4a8d-889d-7e3b242dc403')\"\n",
              "              title=\"Convert this dataframe to an interactive table.\"\n",
              "              style=\"display:none;\">\n",
              "        \n",
              "  <svg xmlns=\"http://www.w3.org/2000/svg\" height=\"24px\"viewBox=\"0 0 24 24\"\n",
              "       width=\"24px\">\n",
              "    <path d=\"M0 0h24v24H0V0z\" fill=\"none\"/>\n",
              "    <path d=\"M18.56 5.44l.94 2.06.94-2.06 2.06-.94-2.06-.94-.94-2.06-.94 2.06-2.06.94zm-11 1L8.5 8.5l.94-2.06 2.06-.94-2.06-.94L8.5 2.5l-.94 2.06-2.06.94zm10 10l.94 2.06.94-2.06 2.06-.94-2.06-.94-.94-2.06-.94 2.06-2.06.94z\"/><path d=\"M17.41 7.96l-1.37-1.37c-.4-.4-.92-.59-1.43-.59-.52 0-1.04.2-1.43.59L10.3 9.45l-7.72 7.72c-.78.78-.78 2.05 0 2.83L4 21.41c.39.39.9.59 1.41.59.51 0 1.02-.2 1.41-.59l7.78-7.78 2.81-2.81c.8-.78.8-2.07 0-2.86zM5.41 20L4 18.59l7.72-7.72 1.47 1.35L5.41 20z\"/>\n",
              "  </svg>\n",
              "      </button>\n",
              "      \n",
              "  <style>\n",
              "    .colab-df-container {\n",
              "      display:flex;\n",
              "      flex-wrap:wrap;\n",
              "      gap: 12px;\n",
              "    }\n",
              "\n",
              "    .colab-df-convert {\n",
              "      background-color: #E8F0FE;\n",
              "      border: none;\n",
              "      border-radius: 50%;\n",
              "      cursor: pointer;\n",
              "      display: none;\n",
              "      fill: #1967D2;\n",
              "      height: 32px;\n",
              "      padding: 0 0 0 0;\n",
              "      width: 32px;\n",
              "    }\n",
              "\n",
              "    .colab-df-convert:hover {\n",
              "      background-color: #E2EBFA;\n",
              "      box-shadow: 0px 1px 2px rgba(60, 64, 67, 0.3), 0px 1px 3px 1px rgba(60, 64, 67, 0.15);\n",
              "      fill: #174EA6;\n",
              "    }\n",
              "\n",
              "    [theme=dark] .colab-df-convert {\n",
              "      background-color: #3B4455;\n",
              "      fill: #D2E3FC;\n",
              "    }\n",
              "\n",
              "    [theme=dark] .colab-df-convert:hover {\n",
              "      background-color: #434B5C;\n",
              "      box-shadow: 0px 1px 3px 1px rgba(0, 0, 0, 0.15);\n",
              "      filter: drop-shadow(0px 1px 2px rgba(0, 0, 0, 0.3));\n",
              "      fill: #FFFFFF;\n",
              "    }\n",
              "  </style>\n",
              "\n",
              "      <script>\n",
              "        const buttonEl =\n",
              "          document.querySelector('#df-1a4fac90-a798-4a8d-889d-7e3b242dc403 button.colab-df-convert');\n",
              "        buttonEl.style.display =\n",
              "          google.colab.kernel.accessAllowed ? 'block' : 'none';\n",
              "\n",
              "        async function convertToInteractive(key) {\n",
              "          const element = document.querySelector('#df-1a4fac90-a798-4a8d-889d-7e3b242dc403');\n",
              "          const dataTable =\n",
              "            await google.colab.kernel.invokeFunction('convertToInteractive',\n",
              "                                                     [key], {});\n",
              "          if (!dataTable) return;\n",
              "\n",
              "          const docLinkHtml = 'Like what you see? Visit the ' +\n",
              "            '<a target=\"_blank\" href=https://colab.research.google.com/notebooks/data_table.ipynb>data table notebook</a>'\n",
              "            + ' to learn more about interactive tables.';\n",
              "          element.innerHTML = '';\n",
              "          dataTable['output_type'] = 'display_data';\n",
              "          await google.colab.output.renderOutput(dataTable, element);\n",
              "          const docLink = document.createElement('div');\n",
              "          docLink.innerHTML = docLinkHtml;\n",
              "          element.appendChild(docLink);\n",
              "        }\n",
              "      </script>\n",
              "    </div>\n",
              "  </div>\n",
              "  "
            ]
          },
          "metadata": {},
          "execution_count": 4
        }
      ],
      "source": [
        "ab = preProcessData(df1)\n",
        "ab.head()"
      ]
    },
    {
      "cell_type": "code",
      "execution_count": null,
      "metadata": {
        "id": "oPp4VTvDXeEI",
        "colab": {
          "base_uri": "https://localhost:8080/"
        },
        "outputId": "51d45f58-4b1e-4dd9-a305-ebef46c8783e"
      },
      "outputs": [
        {
          "output_type": "execute_result",
          "data": {
            "text/plain": [
              "(1002, 9)"
            ]
          },
          "metadata": {},
          "execution_count": 5
        }
      ],
      "source": [
        "b = preProcessData(df2)\n",
        "b.shape"
      ]
    },
    {
      "cell_type": "code",
      "source": [
        "# ab is general tweets data\n",
        "# b is canadian elections data"
      ],
      "metadata": {
        "id": "ZBvd0ExyuEKO"
      },
      "execution_count": null,
      "outputs": []
    },
    {
      "cell_type": "markdown",
      "source": [
        "# **2.Exploratory analysis**\n",
        "\n",
        "We count the frequency of words belonging to a particular political party in a tweet and our prediction of the party is the one that occurs most in that tweet."
      ],
      "metadata": {
        "id": "28_Y70b9hsEr"
      }
    },
    {
      "cell_type": "code",
      "source": [
        "# We create a list of keywords for each partyby going through the data we have\n",
        "liberal = ['liberal','liberal party canada','justintrudeau','liberal_party','justin','trudeau']\n",
        "conservative = ['conservative','conservative party canada','candice bergen','cpc_hq','candice','bergen']\n",
        "ndp = ['ndp','thejagmeetsingh','new democratic party','jagmeet', 'singh']\n",
        "ppc = ['ppc', 'peoples party canada','maxime bernier','peoplespca','maxime','bernier']"
      ],
      "metadata": {
        "id": "hk3_zgZ_L-EH"
      },
      "execution_count": null,
      "outputs": []
    },
    {
      "cell_type": "code",
      "source": [
        "# EDA for Canadian elections file\n",
        "for idx, _ in b.iterrows():\n",
        "  tweet = b.loc[idx,\"no_spaces\"]\n",
        "  liberal_count = sum([True if x in tweet else False for x in liberal])\n",
        "  conservative_count = sum([True if x in tweet else False for x in conservative])\n",
        "  ndp_count = sum([True if x in tweet else False for x in ndp])\n",
        "  ppc_count = sum([True if x in tweet else False for x in ppc])\n",
        "\n",
        "  b.loc[idx, 'liberal'] = liberal_count\n",
        "  b.loc[idx, 'conservative'] = conservative_count\n",
        "  b.loc[idx, 'ndp'] = ndp_count\n",
        "  b.loc[idx, 'ppc'] = ppc_count\n",
        "  \n",
        "b.loc[:,'political_party'] = b.loc[:,[\"liberal\",\"conservative\",\"ndp\",\"ppc\"]].idxmax(axis=1)\n",
        "s =b.loc[:,[\"liberal\",\"conservative\",\"ndp\",\"ppc\"]].sum(axis = 1)\n",
        "j =0 \n",
        "for i in s:  \n",
        " if i == 0:\n",
        "   b.loc[j,'political_party'] =None \n",
        " if i == 1 and b.loc[i,'sentiment'] == 'negative':\n",
        "   b.loc[j,'political_party'] =None  \n",
        " j=j+1\n",
        "\n",
        " \n",
        "# logic for the above procedure being that if we have only name of one party with sentiment = negetive, it will be marked as none,\n",
        "# but in case we have multiple parties in a tweet, we can't tell which party it is negetive for, so we will predict the most frequent party as the positive sentiment"
      ],
      "metadata": {
        "id": "Ex3vDckIL-Av"
      },
      "execution_count": null,
      "outputs": []
    },
    {
      "cell_type": "code",
      "source": [
        "b.head()"
      ],
      "metadata": {
        "colab": {
          "base_uri": "https://localhost:8080/",
          "height": 530
        },
        "id": "-Bm_wRHL1E97",
        "outputId": "07ede7bc-8433-420a-b2c8-4d07f95c067a"
      },
      "execution_count": null,
      "outputs": [
        {
          "output_type": "execute_result",
          "data": {
            "text/plain": [
              "                                                text sentiment  \\\n",
              "0  The Canadian election is a power grab by PM Tr...  negative   \n",
              "1  I do hope Trudeau loses the Canadian election ...  negative   \n",
              "2  Dear Canadians, This election is a test of how...  positive   \n",
              "3  Canadian friends: Never forget that Trudeau ha...  negative   \n",
              "4  Sorry @theJagmeetSingh I have voted #NDP all m...  positive   \n",
              "\n",
              "          negative_reason                                            noemoji  \\\n",
              "0  calling election early  The Canadian election is a power grab by PM Tr...   \n",
              "1                  covid   I do hope Trudeau loses the Canadian election ...   \n",
              "2                     NaN  Dear Canadians, This election is a test of how...   \n",
              "3  calling election early  Canadian friends: Never forget that Trudeau ha...   \n",
              "4                     NaN  Sorry @theJagmeetSingh I have voted #NDP all m...   \n",
              "\n",
              "                                              no_url  \\\n",
              "0  The Canadian election is a power grab by PM Tr...   \n",
              "1  I do hope Trudeau loses the Canadian election ...   \n",
              "2  Dear Canadians, This election is a test of how...   \n",
              "3  Canadian friends: Never forget that Trudeau ha...   \n",
              "4  Sorry @theJagmeetSingh I have voted #NDP all m...   \n",
              "\n",
              "                                           lowercase  \\\n",
              "0  the canadian election is a power grab by pm tr...   \n",
              "1  i do hope trudeau loses the canadian election ...   \n",
              "2  dear canadians, this election is a test of how...   \n",
              "3  canadian friends: never forget that trudeau ha...   \n",
              "4  sorry @thejagmeetsingh i have voted #ndp all m...   \n",
              "\n",
              "                                        no_stopwords  \\\n",
              "0  canadian election power grab pm trudeau, yes -...   \n",
              "1  hope trudeau loses canadian election tomorrow ...   \n",
              "2  dear canadians, election test progressive are....   \n",
              "3  canadian friends: never forget trudeau 2 years...   \n",
              "4  sorry @thejagmeetsingh voted #ndp life electio...   \n",
              "\n",
              "                                             no_punc  \\\n",
              "0  canadian election power grab pm trudeau yes  t...   \n",
              "1  hope trudeau loses canadian election tomorrow ...   \n",
              "2  dear canadians election test progressive are w...   \n",
              "3  canadian friends never forget trudeau 2 years ...   \n",
              "4  sorry thejagmeetsingh voted ndp life election ...   \n",
              "\n",
              "                                           no_spaces  liberal  conservative  \\\n",
              "0  canadian election power grab pm trudeau yes ta...      1.0           0.0   \n",
              "1  hope trudeau loses canadian election tomorrow ...      1.0           0.0   \n",
              "2  dear canadians election test progressive are w...      0.0           0.0   \n",
              "3  canadian friends never forget trudeau 2 years ...      1.0           0.0   \n",
              "4  sorry thejagmeetsingh voted ndp life election ...      0.0           0.0   \n",
              "\n",
              "   ndp  ppc political_party  \n",
              "0  0.0  0.0            None  \n",
              "1  0.0  0.0            None  \n",
              "2  0.0  0.0            None  \n",
              "3  0.0  0.0            None  \n",
              "4  4.0  4.0             ndp  "
            ],
            "text/html": [
              "\n",
              "  <div id=\"df-c507eda9-f9a8-45ef-9a04-3e64fda39a4c\">\n",
              "    <div class=\"colab-df-container\">\n",
              "      <div>\n",
              "<style scoped>\n",
              "    .dataframe tbody tr th:only-of-type {\n",
              "        vertical-align: middle;\n",
              "    }\n",
              "\n",
              "    .dataframe tbody tr th {\n",
              "        vertical-align: top;\n",
              "    }\n",
              "\n",
              "    .dataframe thead th {\n",
              "        text-align: right;\n",
              "    }\n",
              "</style>\n",
              "<table border=\"1\" class=\"dataframe\">\n",
              "  <thead>\n",
              "    <tr style=\"text-align: right;\">\n",
              "      <th></th>\n",
              "      <th>text</th>\n",
              "      <th>sentiment</th>\n",
              "      <th>negative_reason</th>\n",
              "      <th>noemoji</th>\n",
              "      <th>no_url</th>\n",
              "      <th>lowercase</th>\n",
              "      <th>no_stopwords</th>\n",
              "      <th>no_punc</th>\n",
              "      <th>no_spaces</th>\n",
              "      <th>liberal</th>\n",
              "      <th>conservative</th>\n",
              "      <th>ndp</th>\n",
              "      <th>ppc</th>\n",
              "      <th>political_party</th>\n",
              "    </tr>\n",
              "  </thead>\n",
              "  <tbody>\n",
              "    <tr>\n",
              "      <th>0</th>\n",
              "      <td>The Canadian election is a power grab by PM Tr...</td>\n",
              "      <td>negative</td>\n",
              "      <td>calling election early</td>\n",
              "      <td>The Canadian election is a power grab by PM Tr...</td>\n",
              "      <td>The Canadian election is a power grab by PM Tr...</td>\n",
              "      <td>the canadian election is a power grab by pm tr...</td>\n",
              "      <td>canadian election power grab pm trudeau, yes -...</td>\n",
              "      <td>canadian election power grab pm trudeau yes  t...</td>\n",
              "      <td>canadian election power grab pm trudeau yes ta...</td>\n",
              "      <td>1.0</td>\n",
              "      <td>0.0</td>\n",
              "      <td>0.0</td>\n",
              "      <td>0.0</td>\n",
              "      <td>None</td>\n",
              "    </tr>\n",
              "    <tr>\n",
              "      <th>1</th>\n",
              "      <td>I do hope Trudeau loses the Canadian election ...</td>\n",
              "      <td>negative</td>\n",
              "      <td>covid</td>\n",
              "      <td>I do hope Trudeau loses the Canadian election ...</td>\n",
              "      <td>I do hope Trudeau loses the Canadian election ...</td>\n",
              "      <td>i do hope trudeau loses the canadian election ...</td>\n",
              "      <td>hope trudeau loses canadian election tomorrow ...</td>\n",
              "      <td>hope trudeau loses canadian election tomorrow ...</td>\n",
              "      <td>hope trudeau loses canadian election tomorrow ...</td>\n",
              "      <td>1.0</td>\n",
              "      <td>0.0</td>\n",
              "      <td>0.0</td>\n",
              "      <td>0.0</td>\n",
              "      <td>None</td>\n",
              "    </tr>\n",
              "    <tr>\n",
              "      <th>2</th>\n",
              "      <td>Dear Canadians, This election is a test of how...</td>\n",
              "      <td>positive</td>\n",
              "      <td>NaN</td>\n",
              "      <td>Dear Canadians, This election is a test of how...</td>\n",
              "      <td>Dear Canadians, This election is a test of how...</td>\n",
              "      <td>dear canadians, this election is a test of how...</td>\n",
              "      <td>dear canadians, election test progressive are....</td>\n",
              "      <td>dear canadians election test progressive are w...</td>\n",
              "      <td>dear canadians election test progressive are w...</td>\n",
              "      <td>0.0</td>\n",
              "      <td>0.0</td>\n",
              "      <td>0.0</td>\n",
              "      <td>0.0</td>\n",
              "      <td>None</td>\n",
              "    </tr>\n",
              "    <tr>\n",
              "      <th>3</th>\n",
              "      <td>Canadian friends: Never forget that Trudeau ha...</td>\n",
              "      <td>negative</td>\n",
              "      <td>calling election early</td>\n",
              "      <td>Canadian friends: Never forget that Trudeau ha...</td>\n",
              "      <td>Canadian friends: Never forget that Trudeau ha...</td>\n",
              "      <td>canadian friends: never forget that trudeau ha...</td>\n",
              "      <td>canadian friends: never forget trudeau 2 years...</td>\n",
              "      <td>canadian friends never forget trudeau 2 years ...</td>\n",
              "      <td>canadian friends never forget trudeau 2 years ...</td>\n",
              "      <td>1.0</td>\n",
              "      <td>0.0</td>\n",
              "      <td>0.0</td>\n",
              "      <td>0.0</td>\n",
              "      <td>None</td>\n",
              "    </tr>\n",
              "    <tr>\n",
              "      <th>4</th>\n",
              "      <td>Sorry @theJagmeetSingh I have voted #NDP all m...</td>\n",
              "      <td>positive</td>\n",
              "      <td>NaN</td>\n",
              "      <td>Sorry @theJagmeetSingh I have voted #NDP all m...</td>\n",
              "      <td>Sorry @theJagmeetSingh I have voted #NDP all m...</td>\n",
              "      <td>sorry @thejagmeetsingh i have voted #ndp all m...</td>\n",
              "      <td>sorry @thejagmeetsingh voted #ndp life electio...</td>\n",
              "      <td>sorry thejagmeetsingh voted ndp life election ...</td>\n",
              "      <td>sorry thejagmeetsingh voted ndp life election ...</td>\n",
              "      <td>0.0</td>\n",
              "      <td>0.0</td>\n",
              "      <td>4.0</td>\n",
              "      <td>4.0</td>\n",
              "      <td>ndp</td>\n",
              "    </tr>\n",
              "  </tbody>\n",
              "</table>\n",
              "</div>\n",
              "      <button class=\"colab-df-convert\" onclick=\"convertToInteractive('df-c507eda9-f9a8-45ef-9a04-3e64fda39a4c')\"\n",
              "              title=\"Convert this dataframe to an interactive table.\"\n",
              "              style=\"display:none;\">\n",
              "        \n",
              "  <svg xmlns=\"http://www.w3.org/2000/svg\" height=\"24px\"viewBox=\"0 0 24 24\"\n",
              "       width=\"24px\">\n",
              "    <path d=\"M0 0h24v24H0V0z\" fill=\"none\"/>\n",
              "    <path d=\"M18.56 5.44l.94 2.06.94-2.06 2.06-.94-2.06-.94-.94-2.06-.94 2.06-2.06.94zm-11 1L8.5 8.5l.94-2.06 2.06-.94-2.06-.94L8.5 2.5l-.94 2.06-2.06.94zm10 10l.94 2.06.94-2.06 2.06-.94-2.06-.94-.94-2.06-.94 2.06-2.06.94z\"/><path d=\"M17.41 7.96l-1.37-1.37c-.4-.4-.92-.59-1.43-.59-.52 0-1.04.2-1.43.59L10.3 9.45l-7.72 7.72c-.78.78-.78 2.05 0 2.83L4 21.41c.39.39.9.59 1.41.59.51 0 1.02-.2 1.41-.59l7.78-7.78 2.81-2.81c.8-.78.8-2.07 0-2.86zM5.41 20L4 18.59l7.72-7.72 1.47 1.35L5.41 20z\"/>\n",
              "  </svg>\n",
              "      </button>\n",
              "      \n",
              "  <style>\n",
              "    .colab-df-container {\n",
              "      display:flex;\n",
              "      flex-wrap:wrap;\n",
              "      gap: 12px;\n",
              "    }\n",
              "\n",
              "    .colab-df-convert {\n",
              "      background-color: #E8F0FE;\n",
              "      border: none;\n",
              "      border-radius: 50%;\n",
              "      cursor: pointer;\n",
              "      display: none;\n",
              "      fill: #1967D2;\n",
              "      height: 32px;\n",
              "      padding: 0 0 0 0;\n",
              "      width: 32px;\n",
              "    }\n",
              "\n",
              "    .colab-df-convert:hover {\n",
              "      background-color: #E2EBFA;\n",
              "      box-shadow: 0px 1px 2px rgba(60, 64, 67, 0.3), 0px 1px 3px 1px rgba(60, 64, 67, 0.15);\n",
              "      fill: #174EA6;\n",
              "    }\n",
              "\n",
              "    [theme=dark] .colab-df-convert {\n",
              "      background-color: #3B4455;\n",
              "      fill: #D2E3FC;\n",
              "    }\n",
              "\n",
              "    [theme=dark] .colab-df-convert:hover {\n",
              "      background-color: #434B5C;\n",
              "      box-shadow: 0px 1px 3px 1px rgba(0, 0, 0, 0.15);\n",
              "      filter: drop-shadow(0px 1px 2px rgba(0, 0, 0, 0.3));\n",
              "      fill: #FFFFFF;\n",
              "    }\n",
              "  </style>\n",
              "\n",
              "      <script>\n",
              "        const buttonEl =\n",
              "          document.querySelector('#df-c507eda9-f9a8-45ef-9a04-3e64fda39a4c button.colab-df-convert');\n",
              "        buttonEl.style.display =\n",
              "          google.colab.kernel.accessAllowed ? 'block' : 'none';\n",
              "\n",
              "        async function convertToInteractive(key) {\n",
              "          const element = document.querySelector('#df-c507eda9-f9a8-45ef-9a04-3e64fda39a4c');\n",
              "          const dataTable =\n",
              "            await google.colab.kernel.invokeFunction('convertToInteractive',\n",
              "                                                     [key], {});\n",
              "          if (!dataTable) return;\n",
              "\n",
              "          const docLinkHtml = 'Like what you see? Visit the ' +\n",
              "            '<a target=\"_blank\" href=https://colab.research.google.com/notebooks/data_table.ipynb>data table notebook</a>'\n",
              "            + ' to learn more about interactive tables.';\n",
              "          element.innerHTML = '';\n",
              "          dataTable['output_type'] = 'display_data';\n",
              "          await google.colab.output.renderOutput(dataTable, element);\n",
              "          const docLink = document.createElement('div');\n",
              "          docLink.innerHTML = docLinkHtml;\n",
              "          element.appendChild(docLink);\n",
              "        }\n",
              "      </script>\n",
              "    </div>\n",
              "  </div>\n",
              "  "
            ]
          },
          "metadata": {},
          "execution_count": 8
        }
      ]
    },
    {
      "cell_type": "code",
      "source": [
        "#We plot the number of times any political party was mentioned in the data\n",
        "\n",
        "b.political_party.value_counts().plot(kind = 'bar',color = 'g')"
      ],
      "metadata": {
        "colab": {
          "base_uri": "https://localhost:8080/",
          "height": 340
        },
        "id": "fMFfol7udRNo",
        "outputId": "9d10c7b9-9d51-4f83-d938-278653083d23"
      },
      "execution_count": null,
      "outputs": [
        {
          "output_type": "execute_result",
          "data": {
            "text/plain": [
              "<matplotlib.axes._subplots.AxesSubplot at 0x7f60f07b1ed0>"
            ]
          },
          "metadata": {},
          "execution_count": 9
        },
        {
          "output_type": "display_data",
          "data": {
            "text/plain": [
              "<Figure size 432x288 with 1 Axes>"
            ],
            "image/png": "[encoded data removed]"
          },
          "metadata": {
            "needs_background": "light"
          }
        }
      ]
    },
    {
      "cell_type": "code",
      "source": [
        "# Here we plot the frequency of the tweets and their sentiments as well\n",
        "plt.figure(figsize=(15,7))\n",
        "\n",
        "ax = sns.countplot(x='political_party',data=b ,hue = 'sentiment', order = b.political_party.value_counts().index)\n",
        "\n",
        "ax.axes.set_title('The distribution of the political affiliations of the tweets')\n",
        "\n",
        "ax.set_xlabel('Political Parties')\n",
        "\n",
        "ax.set_ylabel('Count')\n",
        "\n",
        "plt.show()"
      ],
      "metadata": {
        "colab": {
          "base_uri": "https://localhost:8080/",
          "height": 458
        },
        "id": "rG66ojDudpsg",
        "outputId": "24200b11-204a-4c21-8aa8-85e944e6b326"
      },
      "execution_count": null,
      "outputs": [
        {
          "output_type": "display_data",
          "data": {
            "text/plain": [
              "<Figure size 1080x504 with 1 Axes>"
            ],
            "image/png": "[encoded data removed]"
          },
          "metadata": {
            "needs_background": "light"
          }
        }
      ]
    },
    {
      "cell_type": "markdown",
      "source": [
        "**From the above graph, we can see that liberal party was the most talked about party regardless of the sentiment. All parties except the conservative party have a higher number of positive tweets compared to negative tweets.**"
      ],
      "metadata": {
        "id": "dwGi-VZlvGb6"
      }
    },
    {
      "cell_type": "code",
      "source": [
        "# EDA for sentiment analysis file\n",
        "ab.head()\n"
      ],
      "metadata": {
        "colab": {
          "base_uri": "https://localhost:8080/",
          "height": 424
        },
        "id": "SXVq4l36eqAt",
        "outputId": "b9cd1088-0813-4f75-f246-b4989e066a99"
      },
      "execution_count": null,
      "outputs": [
        {
          "output_type": "execute_result",
          "data": {
            "text/plain": [
              "             ID                                               text  label  \\\n",
              "0  7.680980e+17  Josh Jenkins is looking forward to TAB Breeder...      1   \n",
              "1  7.680980e+17  RT @MianUsmanJaved: Congratulations Pakistan o...      1   \n",
              "2  7.680980e+17  RT @PEPalerts: This September, @YESmag is taki...      1   \n",
              "3  7.680980e+17  RT @david_gaibis: Newly painted walls, thanks ...      1   \n",
              "4  7.680980e+17  RT @CedricFeschotte: Excited to announce: as o...      1   \n",
              "\n",
              "                                             noemoji  \\\n",
              "0  Josh Jenkins is looking forward to TAB Breeder...   \n",
              "1  RT @MianUsmanJaved: Congratulations Pakistan o...   \n",
              "2  RT @PEPalerts: This September, @YESmag is taki...   \n",
              "3  RT @david_gaibis: Newly painted walls, thanks ...   \n",
              "4  RT @CedricFeschotte: Excited to announce: as o...   \n",
              "\n",
              "                                              no_url  \\\n",
              "0  Josh Jenkins is looking forward to TAB Breeder...   \n",
              "1  RT @MianUsmanJaved: Congratulations Pakistan o...   \n",
              "2  RT @PEPalerts: This September, @YESmag is taki...   \n",
              "3  RT @david_gaibis: Newly painted walls, thanks ...   \n",
              "4  RT @CedricFeschotte: Excited to announce: as o...   \n",
              "\n",
              "                                           lowercase  \\\n",
              "0  josh jenkins is looking forward to tab breeder...   \n",
              "1  rt @mianusmanjaved: congratulations pakistan o...   \n",
              "2  rt @pepalerts: this september, @yesmag is taki...   \n",
              "3  rt @david_gaibis: newly painted walls, thanks ...   \n",
              "4  rt @cedricfeschotte: excited to announce: as o...   \n",
              "\n",
              "                                        no_stopwords  \\\n",
              "0  josh jenkins looking forward tab breeders crow...   \n",
              "1  rt @mianusmanjaved: congratulations pakistan b...   \n",
              "2  rt @pepalerts: september, @yesmag taking maine...   \n",
              "3  rt @david_gaibis: newly painted walls, thanks ...   \n",
              "4  rt @cedricfeschotte: excited announce: july 20...   \n",
              "\n",
              "                                             no_punc  \\\n",
              "0  josh jenkins looking forward tab breeders crow...   \n",
              "1  rt mianusmanjaved congratulations pakistan bec...   \n",
              "2  rt pepalerts september yesmag taking maine men...   \n",
              "3  rt david_gaibis newly painted walls thanks mil...   \n",
              "4  rt cedricfeschotte excited announce july 2017 ...   \n",
              "\n",
              "                                           no_spaces  \n",
              "0  josh jenkins looking forward tab breeders crow...  \n",
              "1  rt mianusmanjaved congratulations pakistan bec...  \n",
              "2  rt pepalerts september yesmag taking maine men...  \n",
              "3  rt david_gaibis newly painted walls thanks mil...  \n",
              "4  rt cedricfeschotte excited announce july 2017 ...  "
            ],
            "text/html": [
              "\n",
              "  <div id=\"df-42f395d7-8e1b-4e99-b34c-2397ce5d17d3\">\n",
              "    <div class=\"colab-df-container\">\n",
              "      <div>\n",
              "<style scoped>\n",
              "    .dataframe tbody tr th:only-of-type {\n",
              "        vertical-align: middle;\n",
              "    }\n",
              "\n",
              "    .dataframe tbody tr th {\n",
              "        vertical-align: top;\n",
              "    }\n",
              "\n",
              "    .dataframe thead th {\n",
              "        text-align: right;\n",
              "    }\n",
              "</style>\n",
              "<table border=\"1\" class=\"dataframe\">\n",
              "  <thead>\n",
              "    <tr style=\"text-align: right;\">\n",
              "      <th></th>\n",
              "      <th>ID</th>\n",
              "      <th>text</th>\n",
              "      <th>label</th>\n",
              "      <th>noemoji</th>\n",
              "      <th>no_url</th>\n",
              "      <th>lowercase</th>\n",
              "      <th>no_stopwords</th>\n",
              "      <th>no_punc</th>\n",
              "      <th>no_spaces</th>\n",
              "    </tr>\n",
              "  </thead>\n",
              "  <tbody>\n",
              "    <tr>\n",
              "      <th>0</th>\n",
              "      <td>7.680980e+17</td>\n",
              "      <td>Josh Jenkins is looking forward to TAB Breeder...</td>\n",
              "      <td>1</td>\n",
              "      <td>Josh Jenkins is looking forward to TAB Breeder...</td>\n",
              "      <td>Josh Jenkins is looking forward to TAB Breeder...</td>\n",
              "      <td>josh jenkins is looking forward to tab breeder...</td>\n",
              "      <td>josh jenkins looking forward tab breeders crow...</td>\n",
              "      <td>josh jenkins looking forward tab breeders crow...</td>\n",
              "      <td>josh jenkins looking forward tab breeders crow...</td>\n",
              "    </tr>\n",
              "    <tr>\n",
              "      <th>1</th>\n",
              "      <td>7.680980e+17</td>\n",
              "      <td>RT @MianUsmanJaved: Congratulations Pakistan o...</td>\n",
              "      <td>1</td>\n",
              "      <td>RT @MianUsmanJaved: Congratulations Pakistan o...</td>\n",
              "      <td>RT @MianUsmanJaved: Congratulations Pakistan o...</td>\n",
              "      <td>rt @mianusmanjaved: congratulations pakistan o...</td>\n",
              "      <td>rt @mianusmanjaved: congratulations pakistan b...</td>\n",
              "      <td>rt mianusmanjaved congratulations pakistan bec...</td>\n",
              "      <td>rt mianusmanjaved congratulations pakistan bec...</td>\n",
              "    </tr>\n",
              "    <tr>\n",
              "      <th>2</th>\n",
              "      <td>7.680980e+17</td>\n",
              "      <td>RT @PEPalerts: This September, @YESmag is taki...</td>\n",
              "      <td>1</td>\n",
              "      <td>RT @PEPalerts: This September, @YESmag is taki...</td>\n",
              "      <td>RT @PEPalerts: This September, @YESmag is taki...</td>\n",
              "      <td>rt @pepalerts: this september, @yesmag is taki...</td>\n",
              "      <td>rt @pepalerts: september, @yesmag taking maine...</td>\n",
              "      <td>rt pepalerts september yesmag taking maine men...</td>\n",
              "      <td>rt pepalerts september yesmag taking maine men...</td>\n",
              "    </tr>\n",
              "    <tr>\n",
              "      <th>3</th>\n",
              "      <td>7.680980e+17</td>\n",
              "      <td>RT @david_gaibis: Newly painted walls, thanks ...</td>\n",
              "      <td>1</td>\n",
              "      <td>RT @david_gaibis: Newly painted walls, thanks ...</td>\n",
              "      <td>RT @david_gaibis: Newly painted walls, thanks ...</td>\n",
              "      <td>rt @david_gaibis: newly painted walls, thanks ...</td>\n",
              "      <td>rt @david_gaibis: newly painted walls, thanks ...</td>\n",
              "      <td>rt david_gaibis newly painted walls thanks mil...</td>\n",
              "      <td>rt david_gaibis newly painted walls thanks mil...</td>\n",
              "    </tr>\n",
              "    <tr>\n",
              "      <th>4</th>\n",
              "      <td>7.680980e+17</td>\n",
              "      <td>RT @CedricFeschotte: Excited to announce: as o...</td>\n",
              "      <td>1</td>\n",
              "      <td>RT @CedricFeschotte: Excited to announce: as o...</td>\n",
              "      <td>RT @CedricFeschotte: Excited to announce: as o...</td>\n",
              "      <td>rt @cedricfeschotte: excited to announce: as o...</td>\n",
              "      <td>rt @cedricfeschotte: excited announce: july 20...</td>\n",
              "      <td>rt cedricfeschotte excited announce july 2017 ...</td>\n",
              "      <td>rt cedricfeschotte excited announce july 2017 ...</td>\n",
              "    </tr>\n",
              "  </tbody>\n",
              "</table>\n",
              "</div>\n",
              "      <button class=\"colab-df-convert\" onclick=\"convertToInteractive('df-42f395d7-8e1b-4e99-b34c-2397ce5d17d3')\"\n",
              "              title=\"Convert this dataframe to an interactive table.\"\n",
              "              style=\"display:none;\">\n",
              "        \n",
              "  <svg xmlns=\"http://www.w3.org/2000/svg\" height=\"24px\"viewBox=\"0 0 24 24\"\n",
              "       width=\"24px\">\n",
              "    <path d=\"M0 0h24v24H0V0z\" fill=\"none\"/>\n",
              "    <path d=\"M18.56 5.44l.94 2.06.94-2.06 2.06-.94-2.06-.94-.94-2.06-.94 2.06-2.06.94zm-11 1L8.5 8.5l.94-2.06 2.06-.94-2.06-.94L8.5 2.5l-.94 2.06-2.06.94zm10 10l.94 2.06.94-2.06 2.06-.94-2.06-.94-.94-2.06-.94 2.06-2.06.94z\"/><path d=\"M17.41 7.96l-1.37-1.37c-.4-.4-.92-.59-1.43-.59-.52 0-1.04.2-1.43.59L10.3 9.45l-7.72 7.72c-.78.78-.78 2.05 0 2.83L4 21.41c.39.39.9.59 1.41.59.51 0 1.02-.2 1.41-.59l7.78-7.78 2.81-2.81c.8-.78.8-2.07 0-2.86zM5.41 20L4 18.59l7.72-7.72 1.47 1.35L5.41 20z\"/>\n",
              "  </svg>\n",
              "      </button>\n",
              "      \n",
              "  <style>\n",
              "    .colab-df-container {\n",
              "      display:flex;\n",
              "      flex-wrap:wrap;\n",
              "      gap: 12px;\n",
              "    }\n",
              "\n",
              "    .colab-df-convert {\n",
              "      background-color: #E8F0FE;\n",
              "      border: none;\n",
              "      border-radius: 50%;\n",
              "      cursor: pointer;\n",
              "      display: none;\n",
              "      fill: #1967D2;\n",
              "      height: 32px;\n",
              "      padding: 0 0 0 0;\n",
              "      width: 32px;\n",
              "    }\n",
              "\n",
              "    .colab-df-convert:hover {\n",
              "      background-color: #E2EBFA;\n",
              "      box-shadow: 0px 1px 2px rgba(60, 64, 67, 0.3), 0px 1px 3px 1px rgba(60, 64, 67, 0.15);\n",
              "      fill: #174EA6;\n",
              "    }\n",
              "\n",
              "    [theme=dark] .colab-df-convert {\n",
              "      background-color: #3B4455;\n",
              "      fill: #D2E3FC;\n",
              "    }\n",
              "\n",
              "    [theme=dark] .colab-df-convert:hover {\n",
              "      background-color: #434B5C;\n",
              "      box-shadow: 0px 1px 3px 1px rgba(0, 0, 0, 0.15);\n",
              "      filter: drop-shadow(0px 1px 2px rgba(0, 0, 0, 0.3));\n",
              "      fill: #FFFFFF;\n",
              "    }\n",
              "  </style>\n",
              "\n",
              "      <script>\n",
              "        const buttonEl =\n",
              "          document.querySelector('#df-42f395d7-8e1b-4e99-b34c-2397ce5d17d3 button.colab-df-convert');\n",
              "        buttonEl.style.display =\n",
              "          google.colab.kernel.accessAllowed ? 'block' : 'none';\n",
              "\n",
              "        async function convertToInteractive(key) {\n",
              "          const element = document.querySelector('#df-42f395d7-8e1b-4e99-b34c-2397ce5d17d3');\n",
              "          const dataTable =\n",
              "            await google.colab.kernel.invokeFunction('convertToInteractive',\n",
              "                                                     [key], {});\n",
              "          if (!dataTable) return;\n",
              "\n",
              "          const docLinkHtml = 'Like what you see? Visit the ' +\n",
              "            '<a target=\"_blank\" href=https://colab.research.google.com/notebooks/data_table.ipynb>data table notebook</a>'\n",
              "            + ' to learn more about interactive tables.';\n",
              "          element.innerHTML = '';\n",
              "          dataTable['output_type'] = 'display_data';\n",
              "          await google.colab.output.renderOutput(dataTable, element);\n",
              "          const docLink = document.createElement('div');\n",
              "          docLink.innerHTML = docLinkHtml;\n",
              "          element.appendChild(docLink);\n",
              "        }\n",
              "      </script>\n",
              "    </div>\n",
              "  </div>\n",
              "  "
            ]
          },
          "metadata": {},
          "execution_count": 11
        }
      ]
    },
    {
      "cell_type": "code",
      "source": [
        "# We will create a word cloud for the sentiment analysis data\n",
        "Positive_tweets = ab[ab['label'] == 1]\n",
        "\n",
        "positive = ''\n",
        "\n",
        "for line in Positive_tweets['no_spaces']:\n",
        "\n",
        "    positive = positive + \" \".join(line.split())"
      ],
      "metadata": {
        "id": "yQSeWnBXfMrC"
      },
      "execution_count": null,
      "outputs": []
    },
    {
      "cell_type": "code",
      "source": [
        "\n",
        "wordcloud = WordCloud(width=2000, height=1000,max_font_size=200,collocations=False, background_color = 'white').generate(positive)\n",
        "\n",
        "plt.figure(figsize=(12,10))\n",
        "\n",
        "plt.imshow(wordcloud, interpolation=\"bilinear\")\n",
        "\n",
        "plt.title('Most used words in positive tweets')\n",
        "\n",
        "plt.axis(\"off\")\n",
        "\n",
        "plt.show()"
      ],
      "metadata": {
        "id": "9AdjVcDAep9N",
        "colab": {
          "base_uri": "https://localhost:8080/",
          "height": 382
        },
        "outputId": "2fc1978f-c8ac-4020-b23b-6a36b74c8dfd"
      },
      "execution_count": null,
      "outputs": [
        {
          "output_type": "display_data",
          "data": {
            "text/plain": [
              "<Figure size 864x720 with 1 Axes>"
            ],
            "image/png": "[encoded data removed]"
          },
          "metadata": {
            "needs_background": "light"
          }
        }
      ]
    },
    {
      "cell_type": "code",
      "source": [],
      "metadata": {
        "id": "G4QFP0qAepyd"
      },
      "execution_count": null,
      "outputs": []
    },
    {
      "cell_type": "markdown",
      "source": [
        "# **DIscuss your findings**"
      ],
      "metadata": {
        "id": "Ka3rwyGcv4dH"
      }
    },
    {
      "cell_type": "markdown",
      "source": [
        "# **3.Sentiment Classification - Model implementation and tuning**"
      ],
      "metadata": {
        "id": "AKU6-M9B1QI5"
      }
    },
    {
      "cell_type": "markdown",
      "source": [
        "**a) Machine learning models:**"
      ],
      "metadata": {
        "id": "lAZpYvo_TyYo"
      }
    },
    {
      "cell_type": "code",
      "source": [
        "sentiment_df = ab.loc[:,[\"no_spaces\" ,\"label\"]]\n",
        "sentiment_df"
      ],
      "metadata": {
        "colab": {
          "base_uri": "https://localhost:8080/",
          "height": 423
        },
        "id": "m25eeuSRepvF",
        "outputId": "ac754f24-12bb-4e62-b0ab-22ab3c976109"
      },
      "execution_count": null,
      "outputs": [
        {
          "output_type": "execute_result",
          "data": {
            "text/plain": [
              "                                                no_spaces  label\n",
              "0       josh jenkins looking forward tab breeders crow...      1\n",
              "1       rt mianusmanjaved congratulations pakistan bec...      1\n",
              "2       rt pepalerts september yesmag taking maine men...      1\n",
              "3       rt david_gaibis newly painted walls thanks mil...      1\n",
              "4       rt cedricfeschotte excited announce july 2017 ...      1\n",
              "...                                                   ...    ...\n",
              "550386               goddesses_o stop watching hermm more      0\n",
              "550387           poor old tom odell look know wrong crowd      0\n",
              "550388       antsmasher smashed 7 ants awesome gamehjfjfi      1\n",
              "550389  lizhudston kymwyllie evasmiless meanbok linddy...      1\n",
              "550390  bixbeat mixtape vol2 great artiste join moveme...      1\n",
              "\n",
              "[550391 rows x 2 columns]"
            ],
            "text/html": [
              "\n",
              "  <div id=\"df-322cf08f-e34d-4862-9eec-4439d80a06a3\">\n",
              "    <div class=\"colab-df-container\">\n",
              "      <div>\n",
              "<style scoped>\n",
              "    .dataframe tbody tr th:only-of-type {\n",
              "        vertical-align: middle;\n",
              "    }\n",
              "\n",
              "    .dataframe tbody tr th {\n",
              "        vertical-align: top;\n",
              "    }\n",
              "\n",
              "    .dataframe thead th {\n",
              "        text-align: right;\n",
              "    }\n",
              "</style>\n",
              "<table border=\"1\" class=\"dataframe\">\n",
              "  <thead>\n",
              "    <tr style=\"text-align: right;\">\n",
              "      <th></th>\n",
              "      <th>no_spaces</th>\n",
              "      <th>label</th>\n",
              "    </tr>\n",
              "  </thead>\n",
              "  <tbody>\n",
              "    <tr>\n",
              "      <th>0</th>\n",
              "      <td>josh jenkins looking forward tab breeders crow...</td>\n",
              "      <td>1</td>\n",
              "    </tr>\n",
              "    <tr>\n",
              "      <th>1</th>\n",
              "      <td>rt mianusmanjaved congratulations pakistan bec...</td>\n",
              "      <td>1</td>\n",
              "    </tr>\n",
              "    <tr>\n",
              "      <th>2</th>\n",
              "      <td>rt pepalerts september yesmag taking maine men...</td>\n",
              "      <td>1</td>\n",
              "    </tr>\n",
              "    <tr>\n",
              "      <th>3</th>\n",
              "      <td>rt david_gaibis newly painted walls thanks mil...</td>\n",
              "      <td>1</td>\n",
              "    </tr>\n",
              "    <tr>\n",
              "      <th>4</th>\n",
              "      <td>rt cedricfeschotte excited announce july 2017 ...</td>\n",
              "      <td>1</td>\n",
              "    </tr>\n",
              "    <tr>\n",
              "      <th>...</th>\n",
              "      <td>...</td>\n",
              "      <td>...</td>\n",
              "    </tr>\n",
              "    <tr>\n",
              "      <th>550386</th>\n",
              "      <td>goddesses_o stop watching hermm more</td>\n",
              "      <td>0</td>\n",
              "    </tr>\n",
              "    <tr>\n",
              "      <th>550387</th>\n",
              "      <td>poor old tom odell look know wrong crowd</td>\n",
              "      <td>0</td>\n",
              "    </tr>\n",
              "    <tr>\n",
              "      <th>550388</th>\n",
              "      <td>antsmasher smashed 7 ants awesome gamehjfjfi</td>\n",
              "      <td>1</td>\n",
              "    </tr>\n",
              "    <tr>\n",
              "      <th>550389</th>\n",
              "      <td>lizhudston kymwyllie evasmiless meanbok linddy...</td>\n",
              "      <td>1</td>\n",
              "    </tr>\n",
              "    <tr>\n",
              "      <th>550390</th>\n",
              "      <td>bixbeat mixtape vol2 great artiste join moveme...</td>\n",
              "      <td>1</td>\n",
              "    </tr>\n",
              "  </tbody>\n",
              "</table>\n",
              "<p>550391 rows × 2 columns</p>\n",
              "</div>\n",
              "      <button class=\"colab-df-convert\" onclick=\"convertToInteractive('df-322cf08f-e34d-4862-9eec-4439d80a06a3')\"\n",
              "              title=\"Convert this dataframe to an interactive table.\"\n",
              "              style=\"display:none;\">\n",
              "        \n",
              "  <svg xmlns=\"http://www.w3.org/2000/svg\" height=\"24px\"viewBox=\"0 0 24 24\"\n",
              "       width=\"24px\">\n",
              "    <path d=\"M0 0h24v24H0V0z\" fill=\"none\"/>\n",
              "    <path d=\"M18.56 5.44l.94 2.06.94-2.06 2.06-.94-2.06-.94-.94-2.06-.94 2.06-2.06.94zm-11 1L8.5 8.5l.94-2.06 2.06-.94-2.06-.94L8.5 2.5l-.94 2.06-2.06.94zm10 10l.94 2.06.94-2.06 2.06-.94-2.06-.94-.94-2.06-.94 2.06-2.06.94z\"/><path d=\"M17.41 7.96l-1.37-1.37c-.4-.4-.92-.59-1.43-.59-.52 0-1.04.2-1.43.59L10.3 9.45l-7.72 7.72c-.78.78-.78 2.05 0 2.83L4 21.41c.39.39.9.59 1.41.59.51 0 1.02-.2 1.41-.59l7.78-7.78 2.81-2.81c.8-.78.8-2.07 0-2.86zM5.41 20L4 18.59l7.72-7.72 1.47 1.35L5.41 20z\"/>\n",
              "  </svg>\n",
              "      </button>\n",
              "      \n",
              "  <style>\n",
              "    .colab-df-container {\n",
              "      display:flex;\n",
              "      flex-wrap:wrap;\n",
              "      gap: 12px;\n",
              "    }\n",
              "\n",
              "    .colab-df-convert {\n",
              "      background-color: #E8F0FE;\n",
              "      border: none;\n",
              "      border-radius: 50%;\n",
              "      cursor: pointer;\n",
              "      display: none;\n",
              "      fill: #1967D2;\n",
              "      height: 32px;\n",
              "      padding: 0 0 0 0;\n",
              "      width: 32px;\n",
              "    }\n",
              "\n",
              "    .colab-df-convert:hover {\n",
              "      background-color: #E2EBFA;\n",
              "      box-shadow: 0px 1px 2px rgba(60, 64, 67, 0.3), 0px 1px 3px 1px rgba(60, 64, 67, 0.15);\n",
              "      fill: #174EA6;\n",
              "    }\n",
              "\n",
              "    [theme=dark] .colab-df-convert {\n",
              "      background-color: #3B4455;\n",
              "      fill: #D2E3FC;\n",
              "    }\n",
              "\n",
              "    [theme=dark] .colab-df-convert:hover {\n",
              "      background-color: #434B5C;\n",
              "      box-shadow: 0px 1px 3px 1px rgba(0, 0, 0, 0.15);\n",
              "      filter: drop-shadow(0px 1px 2px rgba(0, 0, 0, 0.3));\n",
              "      fill: #FFFFFF;\n",
              "    }\n",
              "  </style>\n",
              "\n",
              "      <script>\n",
              "        const buttonEl =\n",
              "          document.querySelector('#df-322cf08f-e34d-4862-9eec-4439d80a06a3 button.colab-df-convert');\n",
              "        buttonEl.style.display =\n",
              "          google.colab.kernel.accessAllowed ? 'block' : 'none';\n",
              "\n",
              "        async function convertToInteractive(key) {\n",
              "          const element = document.querySelector('#df-322cf08f-e34d-4862-9eec-4439d80a06a3');\n",
              "          const dataTable =\n",
              "            await google.colab.kernel.invokeFunction('convertToInteractive',\n",
              "                                                     [key], {});\n",
              "          if (!dataTable) return;\n",
              "\n",
              "          const docLinkHtml = 'Like what you see? Visit the ' +\n",
              "            '<a target=\"_blank\" href=https://colab.research.google.com/notebooks/data_table.ipynb>data table notebook</a>'\n",
              "            + ' to learn more about interactive tables.';\n",
              "          element.innerHTML = '';\n",
              "          dataTable['output_type'] = 'display_data';\n",
              "          await google.colab.output.renderOutput(dataTable, element);\n",
              "          const docLink = document.createElement('div');\n",
              "          docLink.innerHTML = docLinkHtml;\n",
              "          element.appendChild(docLink);\n",
              "        }\n",
              "      </script>\n",
              "    </div>\n",
              "  </div>\n",
              "  "
            ]
          },
          "metadata": {},
          "execution_count": 14
        }
      ]
    },
    {
      "cell_type": "code",
      "source": [
        "X = sentiment_df.loc[:,\"no_spaces\"]\n",
        "y = sentiment_df.iloc[:,-1]\n",
        "X_train, X_test, y_train, y_test = train_test_split(X,y,test_size=0.2)"
      ],
      "metadata": {
        "id": "KFrJHXYGepsX"
      },
      "execution_count": null,
      "outputs": []
    },
    {
      "cell_type": "code",
      "source": [
        "#TF-IDF vectorizer\n",
        "vectorizer = TfidfVectorizer(max_features = 5000)\n",
        "vectors_train = vectorizer.fit_transform(X_train)\n",
        "vectors_test = vectorizer.transform(X_test)\n",
        "feature_names = vectorizer.get_feature_names()"
      ],
      "metadata": {
        "colab": {
          "base_uri": "https://localhost:8080/"
        },
        "id": "-M9FMRZleppr",
        "outputId": "a653c5b4-79fb-4323-c323-7cd1c2e15ef1"
      },
      "execution_count": null,
      "outputs": [
        {
          "output_type": "stream",
          "name": "stderr",
          "text": [
            "/usr/local/lib/python3.7/dist-packages/sklearn/utils/deprecation.py:87: FutureWarning: Function get_feature_names is deprecated; get_feature_names is deprecated in 1.0 and will be removed in 1.2. Please use get_feature_names_out instead.\n",
            "  warnings.warn(msg, category=FutureWarning)\n"
          ]
        }
      ]
    },
    {
      "cell_type": "code",
      "source": [
        "vectors_train.shape"
      ],
      "metadata": {
        "colab": {
          "base_uri": "https://localhost:8080/"
        },
        "id": "S52XAcHupLUw",
        "outputId": "8b110450-23f5-462e-f4b9-497d1f0a75a2"
      },
      "execution_count": null,
      "outputs": [
        {
          "output_type": "execute_result",
          "data": {
            "text/plain": [
              "(440312, 5000)"
            ]
          },
          "metadata": {},
          "execution_count": 17
        }
      ]
    },
    {
      "cell_type": "code",
      "source": [
        "X_train = vectors_train\n",
        "X_test = vectors_test\n"
      ],
      "metadata": {
        "id": "BjRT5XtjpfpY"
      },
      "execution_count": null,
      "outputs": []
    },
    {
      "cell_type": "code",
      "source": [
        "X_train.shape\n",
        "X_test.shape"
      ],
      "metadata": {
        "colab": {
          "base_uri": "https://localhost:8080/"
        },
        "id": "rXh5xWR-EKrY",
        "outputId": "9ef4a7a1-639f-446f-cc02-17c1be51a14b"
      },
      "execution_count": null,
      "outputs": [
        {
          "output_type": "execute_result",
          "data": {
            "text/plain": [
              "(110079, 5000)"
            ]
          },
          "metadata": {},
          "execution_count": 19
        }
      ]
    },
    {
      "cell_type": "code",
      "source": [
        "# LOGISTIC REGRESSION\n",
        "\n",
        "clf = LogisticRegression(C=1).fit(X_train, y_train)\n",
        "\n",
        "# predict on train and test set\n",
        "y_train_predict = clf.predict(X_train)\n",
        "y_test_predict = clf.predict(X_test)\n",
        "\n",
        "# calculate train and test accuracy\n",
        "train_accuracy = accuracy_score(y_train, y_train_predict)\n",
        "test_accuracy = accuracy_score(y_test, y_test_predict)\n",
        "\n",
        "# report results\n",
        "print(\"Train accuracy: {}\".format(train_accuracy))\n",
        "print(\"Test accuracy: {}\".format(test_accuracy))\n",
        "logit_roc_auc = roc_auc_score(y_test, clf.predict(X_test))\n",
        "fpr, tpr, thresholds = roc_curve(y_test, clf.predict_proba(X_test)[:,1])\n",
        "plt.figure()\n",
        "plt.plot(fpr, tpr, label='Logistic Regression (area = %0.2f)' % logit_roc_auc)\n",
        "plt.plot([0, 1], [0, 1],'r--')\n",
        "plt.xlim([0.0, 1.0])\n",
        "plt.ylim([0.0, 1.05])\n",
        "plt.xlabel('False Positive Rate')\n",
        "plt.ylabel('True Positive Rate')\n",
        "plt.title('Receiver operating characteristic')\n",
        "plt.legend(loc=\"lower right\")\n",
        "plt.savefig('Log_ROC')\n",
        "plt.show()"
      ],
      "metadata": {
        "colab": {
          "base_uri": "https://localhost:8080/",
          "height": 469
        },
        "id": "tcPloFr65dGH",
        "outputId": "685511a1-ba6a-4b07-e97c-a192f8ef685e"
      },
      "execution_count": null,
      "outputs": [
        {
          "output_type": "stream",
          "name": "stderr",
          "text": [
            "/usr/local/lib/python3.7/dist-packages/sklearn/linear_model/_logistic.py:818: ConvergenceWarning: lbfgs failed to converge (status=1):\n",
            "STOP: TOTAL NO. of ITERATIONS REACHED LIMIT.\n",
            "\n",
            "Increase the number of iterations (max_iter) or scale the data as shown in:\n",
            "    https://scikit-learn.org/stable/modules/preprocessing.html\n",
            "Please also refer to the documentation for alternative solver options:\n",
            "    https://scikit-learn.org/stable/modules/linear_model.html#logistic-regression\n",
            "  extra_warning_msg=_LOGISTIC_SOLVER_CONVERGENCE_MSG,\n"
          ]
        },
        {
          "output_type": "stream",
          "name": "stdout",
          "text": [
            "Train accuracy: 0.9679136612220426\n",
            "Test accuracy: 0.965988063118306\n"
          ]
        },
        {
          "output_type": "display_data",
          "data": {
            "text/plain": [
              "<Figure size 432x288 with 1 Axes>"
            ],
            "image/png": "[encoded data removed]"
          },
          "metadata": {
            "needs_background": "light"
          }
        }
      ]
    },
    {
      "cell_type": "code",
      "source": [
        "#KNN\n",
        "\n",
        "clf_knn = KNeighborsClassifier(n_neighbors=10).fit(X_train, y_train)\n",
        "\n",
        "# predict on train and test set\n",
        "y_train_predict_knn = clf_knn.predict(X_train)\n",
        "y_test_predict_knn = clf_knn.predict(X_test)\n",
        "\n",
        "# calculate train and test accuracy\n",
        "train_accuracy_knn = accuracy_score(y_train, y_train_predict_knn)\n",
        "test_accuracy_knn = accuracy_score(y_test, y_test_predict_knn)\n",
        "\n",
        "# report results\n",
        "print(\"Train accuracy knn: {}\".format(train_accuracy_knn))\n",
        "print(\"Test accuracy knn: {}\".format(test_accuracy_knn))"
      ],
      "metadata": {
        "colab": {
          "base_uri": "https://localhost:8080/"
        },
        "id": "JhmNzFa05dDY",
        "outputId": "7da7e6e1-f625-44f9-c34b-7d34fed074d3"
      },
      "execution_count": null,
      "outputs": [
        {
          "output_type": "stream",
          "name": "stdout",
          "text": [
            "Train accuracy knn: 0.7847866967059721\n",
            "Test accuracy knn: 0.7540675333169814\n"
          ]
        }
      ]
    },
    {
      "cell_type": "code",
      "source": [
        "# Naive Bayes\n",
        "\n",
        "gnb = MultinomialNB().fit(X_train, y_train)\n",
        "\n",
        "# predict on train and test set\n",
        "y_train_predict_nb = gnb.predict(X_train)\n",
        "y_test_predict_nb = gnb.predict(X_test)\n",
        "\n",
        "# calculate train and test accuracy\n",
        "train_accuracy_nb = accuracy_score(y_train, y_train_predict_nb)\n",
        "test_accuracy_nb = accuracy_score(y_test, y_test_predict_nb)\n",
        "\n",
        "# report results\n",
        "print(\"Train accuracy Naive Bayes: {}\".format(train_accuracy_nb))\n",
        "print(\"Test accuracy Naive Bayes: {}\".format(test_accuracy_nb))"
      ],
      "metadata": {
        "id": "N5gA1XSr5coa",
        "colab": {
          "base_uri": "https://localhost:8080/"
        },
        "outputId": "0399a389-f6fd-444c-b55b-6683be24239d"
      },
      "execution_count": null,
      "outputs": [
        {
          "output_type": "stream",
          "name": "stdout",
          "text": [
            "Train accuracy Naive Bayes: 0.9283576191427897\n",
            "Test accuracy Naive Bayes: 0.9254807910682328\n"
          ]
        }
      ]
    },
    {
      "cell_type": "code",
      "source": [
        "#SVM\n",
        "\n",
        "clf = SVC(kernel='linear')\n",
        "clf.fit(X_train, y_train)\n",
        "\n",
        "# predict on train and test set\n",
        "y_train_predict_svm = clf.predict(X_train)\n",
        "y_test_predict_svm = clf.predict(X_test)\n",
        "\n",
        "# calculate train and test accuracy\n",
        "train_accuracy_svm = accuracy_score(y_train, y_train_predict_svm)\n",
        "test_accuracy_svm = accuracy_score(y_test, y_test_predict_svm)\n",
        "\n",
        "# report results\n",
        "print(\"Train accuracy SVM: {}\".format(train_accuracy_svm))\n",
        "print(\"Test accuracy SVM: {}\".format(test_accuracy_svm))"
      ],
      "metadata": {
        "id": "D4km8X3-FWag",
        "colab": {
          "base_uri": "https://localhost:8080/"
        },
        "outputId": "47628bba-52b2-40eb-a932-5f3829b74348"
      },
      "execution_count": null,
      "outputs": [
        {
          "output_type": "stream",
          "name": "stdout",
          "text": [
            "Train accuracy SVM: 0.9688561747124766\n",
            "Test accuracy SVM: 0.9653703249484461\n"
          ]
        }
      ]
    },
    {
      "cell_type": "code",
      "source": [
        "#Decision Tree\n",
        "\n",
        "clf = DecisionTreeClassifier()\n",
        "clf.fit(X_train, y_train)\n",
        "\n",
        "# predict on train and test set\n",
        "y_train_predict_dt = clf.predict(X_train)\n",
        "y_test_predict_dt = clf.predict(X_test)\n",
        "\n",
        "# calculate train and test accuracy\n",
        "train_accuracy_dt = accuracy_score(y_train, y_train_predict_dt)\n",
        "test_accuracy_dt = accuracy_score(y_test, y_test_predict_dt)\n",
        "\n",
        "# report results\n",
        "print(\"Train accuracy Decision Tree: {}\".format(train_accuracy_dt))\n",
        "print(\"Test accuracy Decision Tree: {}\".format(test_accuracy_dt))"
      ],
      "metadata": {
        "id": "nZqfSi66FWXe",
        "colab": {
          "base_uri": "https://localhost:8080/"
        },
        "outputId": "c9333697-9038-48cf-bda4-23e894b8dd69"
      },
      "execution_count": null,
      "outputs": [
        {
          "output_type": "stream",
          "name": "stdout",
          "text": [
            "Train accuracy Decision Tree: 0.9976789185850033\n",
            "Test accuracy Decision Tree: 0.9402974227600178\n"
          ]
        }
      ]
    },
    {
      "cell_type": "code",
      "source": [
        "#Random Forest\n",
        "clf = RandomForestClassifier(max_depth=2, random_state=0)\n",
        "clf.fit(X_train, y_train)\n",
        "\n",
        "# predict on train and test set\n",
        "y_train_predict_rf = clf.predict(X_train)\n",
        "y_test_predict_rf = clf.predict(X_test)\n",
        "\n",
        "# calculate train and test accuracy\n",
        "train_accuracy_rf = accuracy_score(y_train, y_train_predict_rf)\n",
        "test_accuracy_rf = accuracy_score(y_test, y_test_predict_rf)\n",
        "\n",
        "# report results\n",
        "print(\"Train accuracy Random Forest: {}\".format(train_accuracy_rf))\n",
        "print(\"Test accuracy Random Forest: {}\".format(test_accuracy_rf))"
      ],
      "metadata": {
        "id": "DLFOpDpgFWVO",
        "colab": {
          "base_uri": "https://localhost:8080/"
        },
        "outputId": "835e0d2b-3561-4b81-a73f-b8794c68f10f"
      },
      "execution_count": null,
      "outputs": [
        {
          "output_type": "stream",
          "name": "stdout",
          "text": [
            "Train accuracy Random Forest: 0.6747896945802068\n",
            "Test accuracy Random Forest: 0.6742702967868531\n"
          ]
        }
      ]
    },
    {
      "cell_type": "code",
      "source": [
        "#XGboost\n",
        "xgb_class = xgb.XGBClassifier(objective ='reg:logistic', colsample_bytree = 0.3, learning_rate = 0.1,\n",
        "\n",
        "                max_depth = 150, alpha = 10, n_estimators = 10)\n",
        "\n",
        "xgb_class.fit(X_train,y_train)\n",
        "\n",
        "\n",
        "\n",
        "# predict using train data\n",
        "\n",
        "y_train_predict_xg = xgb_class.predict(X_train)\n",
        "\n",
        "train_accuracy_xg = accuracy_score(y_train, y_train_predict_xg)\n",
        "\n",
        "\n",
        "\n",
        "# predict using test data\n",
        "\n",
        "y_test_predict_xg = xgb_class.predict(X_test)\n",
        "\n",
        "test_accuracy_xg = accuracy_score(y_test, y_test_predict_xg)   \n",
        "\n",
        "\n",
        "\n",
        "print(\"Model: XGBoost\")\n",
        "\n",
        "print(\"Training accuracy: {}\".format(train_accuracy_xg))\n",
        "\n",
        "print(\"Test accuracy: {}\".format(test_accuracy_xg))"
      ],
      "metadata": {
        "colab": {
          "base_uri": "https://localhost:8080/"
        },
        "id": "dj5wYVtzAqVU",
        "outputId": "9e2c6bef-7e5f-4029-9fb5-1eba9afd7063"
      },
      "execution_count": null,
      "outputs": [
        {
          "output_type": "stream",
          "name": "stdout",
          "text": [
            "Model: XGBoost\n",
            "Training accuracy: 0.9125483747887861\n",
            "Test accuracy: 0.8927588368353637\n"
          ]
        }
      ]
    },
    {
      "cell_type": "markdown",
      "source": [
        "**b) Deep learning model:**"
      ],
      "metadata": {
        "id": "2Kbj6EYiT3QT"
      }
    },
    {
      "cell_type": "code",
      "source": [
        "x1, x_test, y1, y_test = train_test_split(X,y,test_size=0.2,train_size=0.8)\n",
        "x_train, x_val, y_train, y_val = train_test_split(x1,y1,test_size = 0.25,train_size =0.75)"
      ],
      "metadata": {
        "id": "zqg5v2EHwXvF"
      },
      "execution_count": null,
      "outputs": []
    },
    {
      "cell_type": "code",
      "source": [
        "# Bag of Words\n",
        "vectorizer = CountVectorizer(max_features = 3000)\n",
        "\n",
        "X_train = vectorizer.fit_transform(x_train)\n",
        "X_test = vectorizer.transform(x_test)\n",
        "X_val = vectorizer.transform(x_val)\n",
        "\n",
        "#X_train = pd.DataFrame(vector_train.toarray(),columns=vectorizer.get_feature_names())\n",
        "#X_test = pd.DataFrame(vector_test.toarray(),columns=vectorizer.get_feature_names())\n",
        "#X_val = pd.DataFrame(vector_test.toarray(),columns=vectorizer.get_feature_names())"
      ],
      "metadata": {
        "id": "T9_yIzaFFWMl"
      },
      "execution_count": null,
      "outputs": []
    },
    {
      "cell_type": "code",
      "source": [
        "X_val.shape"
      ],
      "metadata": {
        "id": "TNASX9J6FWJe",
        "colab": {
          "base_uri": "https://localhost:8080/"
        },
        "outputId": "b058fa45-9546-436d-c7f3-7dac827159df"
      },
      "execution_count": null,
      "outputs": [
        {
          "output_type": "execute_result",
          "data": {
            "text/plain": [
              "(110078, 3000)"
            ]
          },
          "metadata": {},
          "execution_count": 26
        }
      ]
    },
    {
      "cell_type": "code",
      "source": [
        "X_train.shape"
      ],
      "metadata": {
        "id": "kLZqaDmsFWHP",
        "colab": {
          "base_uri": "https://localhost:8080/"
        },
        "outputId": "7582a460-59d6-4613-f57d-0c0e463ac0ca"
      },
      "execution_count": null,
      "outputs": [
        {
          "output_type": "execute_result",
          "data": {
            "text/plain": [
              "(330234, 3000)"
            ]
          },
          "metadata": {},
          "execution_count": 26
        }
      ]
    },
    {
      "cell_type": "code",
      "source": [
        "X_train.shape"
      ],
      "metadata": {
        "colab": {
          "base_uri": "https://localhost:8080/"
        },
        "id": "IEKg7_o3FZQ0",
        "outputId": "c363d64b-e59d-4006-fe19-899c0d60374a"
      },
      "execution_count": null,
      "outputs": [
        {
          "output_type": "execute_result",
          "data": {
            "text/plain": [
              "(330234, 5000)"
            ]
          },
          "metadata": {},
          "execution_count": 34
        }
      ]
    },
    {
      "cell_type": "code",
      "source": [
        "round(X_train.shape[0] / 2, 0)"
      ],
      "metadata": {
        "colab": {
          "base_uri": "https://localhost:8080/"
        },
        "id": "YfM9htdRGtyI",
        "outputId": "18a9ec3d-be07-422e-f18d-276c945f28a0"
      },
      "execution_count": null,
      "outputs": [
        {
          "output_type": "execute_result",
          "data": {
            "text/plain": [
              "165117.0"
            ]
          },
          "metadata": {},
          "execution_count": 27
        }
      ]
    },
    {
      "cell_type": "code",
      "source": [
        "#EXPLAIN TAKING 3000 FEATURES "
      ],
      "metadata": {
        "id": "hINxs3jH2-ZH"
      },
      "execution_count": null,
      "outputs": []
    },
    {
      "cell_type": "code",
      "source": [
        "import time\n",
        "def make_torch_array_from_csr_matrix(csr_matrix, compute_batch_size = 3000):\n",
        "  torch_array = None\n",
        "  temp_array = None\n",
        "  for i in range(0, csr_matrix.shape[0], compute_batch_size):\n",
        "    ii = torch.from_numpy(csr_matrix[i: i+compute_batch_size].todense()).float()\n",
        "    temp_array = torch.cat([temp_array , ii]) if temp_array is not None else ii\n",
        "    #print(temp_array.shape)\n",
        "    ten_times_compute_batch_size = 10 * compute_batch_size\n",
        "    if temp_array.shape[0]%ten_times_compute_batch_size==0:\n",
        "      time.sleep(2)\n",
        "      torch_array = torch.cat([torch_array , temp_array]) if torch_array is not None else temp_array\n",
        "      temp_array = None\n",
        "      print(\"Torch array shape: \", torch_array.shape)\n",
        "  torch_array = torch.cat([torch_array , temp_array]) if torch_array is not None else temp_array\n",
        "  return torch_array\n",
        "\n",
        "x_train_size = int(round(X_train.shape[0] / 2, 0))\n",
        "x_train_torch_array_1 = make_torch_array_from_csr_matrix(X_train[:x_train_size])\n",
        "x_train_torch_array_2 = make_torch_array_from_csr_matrix(X_train[x_train_size:])\n",
        "x_val_torch_array = make_torch_array_from_csr_matrix(X_val)\n",
        "x_test_torch_array = make_torch_array_from_csr_matrix(X_test)"
      ],
      "metadata": {
        "id": "yy-R3zCTprB2",
        "colab": {
          "base_uri": "https://localhost:8080/"
        },
        "outputId": "23c0413b-38b4-4379-d565-98f5dfed15f6"
      },
      "execution_count": null,
      "outputs": [
        {
          "output_type": "stream",
          "name": "stdout",
          "text": [
            "Torch array shape:  torch.Size([30000, 3000])\n",
            "Torch array shape:  torch.Size([60000, 3000])\n",
            "Torch array shape:  torch.Size([90000, 3000])\n",
            "Torch array shape:  torch.Size([120000, 3000])\n",
            "Torch array shape:  torch.Size([150000, 3000])\n",
            "Torch array shape:  torch.Size([30000, 3000])\n",
            "Torch array shape:  torch.Size([60000, 3000])\n",
            "Torch array shape:  torch.Size([90000, 3000])\n",
            "Torch array shape:  torch.Size([120000, 3000])\n",
            "Torch array shape:  torch.Size([150000, 3000])\n",
            "Torch array shape:  torch.Size([30000, 3000])\n",
            "Torch array shape:  torch.Size([60000, 3000])\n",
            "Torch array shape:  torch.Size([90000, 3000])\n",
            "Torch array shape:  torch.Size([30000, 3000])\n",
            "Torch array shape:  torch.Size([60000, 3000])\n",
            "Torch array shape:  torch.Size([90000, 3000])\n"
          ]
        }
      ]
    },
    {
      "cell_type": "code",
      "source": [
        "#x_train_torch_array = torch.cat([x_train_torch_array_1, x_train_torch_array_2])\n",
        "#x_train_torch_array.shape\n",
        "#X_train.shape\n",
        "x_val_torch_array.shape"
      ],
      "metadata": {
        "colab": {
          "base_uri": "https://localhost:8080/"
        },
        "id": "tnHHuNV8Wpe9",
        "outputId": "38b80b36-f658-4bd6-fa51-c2564bdeb4b0"
      },
      "execution_count": null,
      "outputs": [
        {
          "output_type": "execute_result",
          "data": {
            "text/plain": [
              "torch.Size([110078, 3000])"
            ]
          },
          "metadata": {},
          "execution_count": 28
        }
      ]
    },
    {
      "cell_type": "code",
      "source": [
        "EPOCHS = 10\n",
        "BATCH_SIZE = 64\n",
        "LEARNING_RATE = 0.001\n",
        "\n",
        "# train data\n",
        "class TrainData(Dataset):\n",
        "    \n",
        "    def __init__(self, X_data, y_data):\n",
        "        self.X_data = X_data\n",
        "        self.y_data = y_data\n",
        "        \n",
        "    def __getitem__(self, index):\n",
        "        return self.X_data[index], self.y_data[index]\n",
        "        \n",
        "    def __len__ (self):\n",
        "        return len(self.X_data)\n",
        "\n",
        "\n",
        "train_data_1 = TrainData(x_train_torch_array_1, \n",
        "                       torch.FloatTensor(y_train.to_numpy()[:x_train_size]))\n",
        "train_data_2 = TrainData(x_train_torch_array_2, \n",
        "                       torch.FloatTensor(y_train.to_numpy()[x_train_size:]))\n",
        "## test data    \n",
        "class TestData(Dataset):\n",
        "    \n",
        "    def __init__(self, X_data):\n",
        "        self.X_data = X_data\n",
        "        \n",
        "    def __getitem__(self, index):\n",
        "        return self.X_data[index]\n",
        "        \n",
        "    def __len__ (self):\n",
        "        return len(self.X_data)\n",
        "    \n",
        "\n",
        "test_data = TestData(x_test_torch_array)\n",
        "\n",
        "#Validation data\n",
        "class ValidationData(Dataset):\n",
        "    \n",
        "    def __init__(self, X_data, y_data):\n",
        "        self.X_data = X_data\n",
        "        self.y_data = y_data\n",
        "        \n",
        "    def __getitem__(self, index):\n",
        "        return self.X_data[index], self.y_data[index]\n",
        "        \n",
        "    def __len__ (self):\n",
        "        return len(self.X_data)\n",
        "\n",
        "val_data = ValidationData(x_val_torch_array, \n",
        "                          torch.FloatTensor(y_val.to_numpy()))\n"
      ],
      "metadata": {
        "id": "W9NRt1UI7CFK"
      },
      "execution_count": null,
      "outputs": []
    },
    {
      "cell_type": "code",
      "source": [
        "train_loader_1 = DataLoader(dataset=train_data_1, batch_size=BATCH_SIZE)\n",
        "train_loader_2 = DataLoader(dataset=train_data_2, batch_size=BATCH_SIZE)\n",
        "test_loader = DataLoader(dataset=test_data, batch_size=1)\n",
        "validation_loader = DataLoader(dataset=val_data, batch_size=BATCH_SIZE)"
      ],
      "metadata": {
        "id": "iQo_pNcX78kA"
      },
      "execution_count": null,
      "outputs": []
    },
    {
      "cell_type": "code",
      "source": [
        "class BinaryClassification(nn.Module):\n",
        "    def __init__(self):\n",
        "        super(BinaryClassification, self).__init__()        # Number of input features is 12.\n",
        "        self.layer_1 = nn.Linear(3000, 64) \n",
        "        self.layer_2 = nn.Linear(64, 64)\n",
        "        self.layer_out = nn.Linear(64, 1) \n",
        "        \n",
        "        self.relu = nn.ReLU()\n",
        "        #self.dropout = nn.Dropout(p=0.1)\n",
        "        #self.batchnorm1 = nn.BatchNorm1d(64)\n",
        "        #self.batchnorm2 = nn.BatchNorm1d(64)\n",
        "        \n",
        "    def forward(self, inputs):\n",
        "        x = self.relu(self.layer_1(inputs))\n",
        "        #x = self.batchnorm1(x)\n",
        "        x = self.relu(self.layer_2(x))\n",
        "        #x = self.batchnorm2(x)\n",
        "        #x = self.dropout(x)\n",
        "        x = self.layer_out(x)\n",
        "        \n",
        "        return x"
      ],
      "metadata": {
        "id": "t1iHpIr0krP5"
      },
      "execution_count": null,
      "outputs": []
    },
    {
      "cell_type": "code",
      "source": [
        "model = BinaryClassification()\n",
        "criterion = nn.BCEWithLogitsLoss()\n",
        "optimizer = optim.Adam(model.parameters(), lr=LEARNING_RATE)\n",
        "\n",
        "\n",
        "def binary_acc(y_pred, y_test):\n",
        "    y_pred_tag = torch.round(torch.sigmoid(y_pred))\n",
        "\n",
        "    correct_results_sum = (y_pred_tag == y_test).sum().float()\n",
        "    acc = correct_results_sum/y_test.shape[0]\n",
        "    acc = torch.round(acc * 100)\n",
        "    \n",
        "    return acc"
      ],
      "metadata": {
        "id": "kQAYlLSCkrNL"
      },
      "execution_count": null,
      "outputs": []
    },
    {
      "cell_type": "code",
      "source": [
        "model.train()\n",
        "for e in range(1, EPOCHS+1):\n",
        "    epoch_loss = 0\n",
        "    epoch_acc = 0\n",
        "    for X_batch, y_batch in train_loader_1:\n",
        "       # X_batch, y_batch = X_batch.to(device), y_batch.to(device)\n",
        "        optimizer.zero_grad()\n",
        "        \n",
        "        y_pred = model(X_batch)\n",
        "        \n",
        "        loss = criterion(y_pred, y_batch.unsqueeze(1))\n",
        "        acc = binary_acc(y_pred, y_batch.unsqueeze(1))\n",
        "        \n",
        "        loss.backward()\n",
        "        optimizer.step()\n",
        "        \n",
        "        epoch_loss += loss.item()\n",
        "        epoch_acc += acc.item()\n",
        "    for X_batch, y_batch in train_loader_2:\n",
        "       # X_batch, y_batch = X_batch.to(device), y_batch.to(device)\n",
        "        optimizer.zero_grad()\n",
        "        \n",
        "        y_pred = model(X_batch)\n",
        "        \n",
        "        loss = criterion(y_pred, y_batch.unsqueeze(1))\n",
        "        acc = binary_acc(y_pred, y_batch.unsqueeze(1))\n",
        "        \n",
        "        loss.backward()\n",
        "        optimizer.step()\n",
        "        \n",
        "        epoch_loss += loss.item()\n",
        "        epoch_acc += acc.item()\n",
        "        \n",
        "\n",
        "    print(f'Epoch {e+0:03}: | Loss: {epoch_loss/(len(train_loader_1) + len(train_loader_2)):.5f} | Acc: {epoch_acc/(len(train_loader_1) + len(train_loader_2)):.3f}')"
      ],
      "metadata": {
        "id": "gMB7YCxmkrKJ",
        "colab": {
          "base_uri": "https://localhost:8080/"
        },
        "outputId": "9c0c4001-0a95-405d-c18b-ea95bc9b2602"
      },
      "execution_count": null,
      "outputs": [
        {
          "output_type": "stream",
          "name": "stdout",
          "text": [
            "Epoch 001: | Loss: 0.12959 | Acc: 94.875\n",
            "Epoch 002: | Loss: 0.10630 | Acc: 95.893\n",
            "Epoch 003: | Loss: 0.09576 | Acc: 96.282\n",
            "Epoch 004: | Loss: 0.08464 | Acc: 96.738\n",
            "Epoch 005: | Loss: 0.07225 | Acc: 97.235\n",
            "Epoch 006: | Loss: 0.05961 | Acc: 97.740\n",
            "Epoch 007: | Loss: 0.04876 | Acc: 98.157\n",
            "Epoch 008: | Loss: 0.03983 | Acc: 98.472\n",
            "Epoch 009: | Loss: 0.03291 | Acc: 98.689\n",
            "Epoch 010: | Loss: 0.02792 | Acc: 98.869\n"
          ]
        }
      ]
    },
    {
      "cell_type": "code",
      "source": [
        "y_pred_list = []\n",
        "model.eval()\n",
        "with torch.no_grad():\n",
        "    for X_batch,y_batch in validation_loader:\n",
        "        y_val_pred = model(X_batch)\n",
        "        y_val_pred = torch.sigmoid(y_val_pred)\n",
        "        y_pred_tag = torch.round(y_val_pred)\n",
        "        y_pred_list.append(y_pred_tag.cpu().numpy())\n",
        "\n",
        "y_pred_list = [a.squeeze().tolist() for a in y_pred_list]"
      ],
      "metadata": {
        "id": "ERB1RT-qkrEJ"
      },
      "execution_count": null,
      "outputs": []
    },
    {
      "cell_type": "code",
      "source": [
        "y_pred_list_temp = []\n",
        "for i in y_pred_list:\n",
        "  for ele in i:\n",
        "    y_pred_list_temp.append(ele)\n",
        "y_pred_list = y_pred_list_temp"
      ],
      "metadata": {
        "id": "24kCgeO6e7Lu"
      },
      "execution_count": null,
      "outputs": []
    },
    {
      "cell_type": "code",
      "source": [
        "cm = confusion_matrix(y_val[:len(y_pred_list)], y_pred_list)"
      ],
      "metadata": {
        "id": "14d0zmOvkrBL"
      },
      "execution_count": null,
      "outputs": []
    },
    {
      "cell_type": "code",
      "source": [
        "res = cm.tolist()\n",
        "acc = (cm[0][0] + cm[1][1] ) * 100/ (cm[0][0] + cm[1][0] + cm[0][1] + cm[1][1] )\n",
        "print(acc)"
      ],
      "metadata": {
        "colab": {
          "base_uri": "https://localhost:8080/"
        },
        "id": "WJnOI6tsQUvp",
        "outputId": "b2d4dbd4-5b02-4929-baf8-7b3a36f6a3f7"
      },
      "execution_count": null,
      "outputs": [
        {
          "output_type": "stream",
          "name": "stdout",
          "text": [
            "95.34511891567797\n"
          ]
        }
      ]
    },
    {
      "cell_type": "code",
      "source": [
        "#Hyperparameter tuning\n",
        "best_params = {}\n",
        "best_accuracy = 0\n",
        "\n",
        "\n",
        "for LEARNING_RATE in [0.1,0.001,0.01]:\n",
        "\n",
        "    for BATCH_SIZE in [64,128,256, 32]:\n",
        "      '''\n",
        "      train_data = TrainData(torch.FloatTensor(X_train.toarray()), \n",
        "                       torch.FloatTensor(y_train.to_numpy()))\n",
        "      #test_data = TestData(torch.FloatTensor(X_test.toarray()))\n",
        "      val_data = ValidationData(torch.FloatTensor(X_val.toarray()), \n",
        "                          torch.FloatTensor(y_val.to_numpy()))\n",
        "      \n",
        "      '''\n",
        "      train_loader_1 = DataLoader(dataset=train_data_1, batch_size=BATCH_SIZE)\n",
        "      train_loader_2 = DataLoader(dataset=train_data_2, batch_size=BATCH_SIZE)\n",
        "      validation_loader = DataLoader(dataset=val_data, batch_size=BATCH_SIZE)\n",
        "\n",
        "      model = BinaryClassification()\n",
        "      criterion = nn.BCEWithLogitsLoss()\n",
        "      optimizer = optim.Adam(model.parameters(), lr=LEARNING_RATE)\n",
        "\n",
        "      model.train()\n",
        "      for X_batch, y_batch in train_loader_1:\n",
        "       # X_batch, y_batch = X_batch.to(device), y_batch.to(device)\n",
        "        optimizer.zero_grad()\n",
        "        \n",
        "        y_pred = model(X_batch)\n",
        "        \n",
        "        loss = criterion(y_pred, y_batch.unsqueeze(1))\n",
        "        acc = binary_acc(y_pred, y_batch.unsqueeze(1))\n",
        "        \n",
        "        loss.backward()\n",
        "        optimizer.step()\n",
        "        \n",
        "        epoch_loss += loss.item()\n",
        "        epoch_acc += acc.item()\n",
        "    \n",
        "      for X_batch, y_batch in train_loader_2:\n",
        "       # X_batch, y_batch = X_batch.to(device), y_batch.to(device)\n",
        "        optimizer.zero_grad()\n",
        "        \n",
        "        y_pred = model(X_batch)\n",
        "        \n",
        "        loss = criterion(y_pred, y_batch.unsqueeze(1))\n",
        "        acc = binary_acc(y_pred, y_batch.unsqueeze(1))\n",
        "        \n",
        "        loss.backward()\n",
        "        optimizer.step()\n",
        "        \n",
        "        epoch_loss += loss.item()\n",
        "        epoch_acc += acc.item()\n",
        "\n",
        "      y_pred_list = []\n",
        "      model.eval()\n",
        "      with torch.no_grad():\n",
        "          for X_batch,y_batch in validation_loader:\n",
        "             \n",
        "              y_val_pred = model(X_batch)\n",
        "              y_val_pred = torch.sigmoid(y_val_pred)\n",
        "              y_pred_tag = torch.round(y_val_pred)\n",
        "              y_pred_list.append(y_pred_tag.cpu().numpy())\n",
        "\n",
        "      y_pred_list = [a.squeeze().tolist() for a in y_pred_list]\n",
        "      y_pred_list_temp = []\n",
        "      for i in y_pred_list:\n",
        "        for ele in i:\n",
        "          y_pred_list_temp.append(ele)\n",
        "      y_pred_list = y_pred_list_temp\n",
        "\n",
        "      cm = confusion_matrix(y_val, y_pred_list)\n",
        "      res = cm.tolist()\n",
        "      acc = (cm[0][0] + cm[1][1] ) * 100/ (cm[0][0] + cm[1][0] + cm[0][1] + cm[1][1] )\n",
        "      print(\"Accuracy after this set of params: \", acc)\n",
        "\n",
        "      if acc > best_accuracy:\n",
        "        best_params = {'Learning rate':LEARNING_RATE, 'Batch size':BATCH_SIZE, 'model' : model}\n",
        "        best_accuracy = acc\n",
        "\n",
        "print (best_params)\n",
        "\n",
        "print (\"Best Score: {}%\".format(best_accuracy))      \n"
      ],
      "metadata": {
        "id": "W3K-JCV9Y5wP",
        "colab": {
          "base_uri": "https://localhost:8080/"
        },
        "outputId": "80ea8d5b-3c4f-48d2-fa9a-8b7c88a3763b"
      },
      "execution_count": null,
      "outputs": [
        {
          "output_type": "stream",
          "name": "stdout",
          "text": [
            "Accuracy after this set of params:  91.02908846454332\n",
            "Accuracy after this set of params:  94.76280455676884\n",
            "Accuracy after this set of params:  95.38872435909083\n",
            "Accuracy after this set of params:  67.63385962681008\n",
            "Accuracy after this set of params:  95.68396954886535\n",
            "Accuracy after this set of params:  95.68760333581642\n",
            "Accuracy after this set of params:  95.70304693035847\n",
            "Accuracy after this set of params:  95.6966878031941\n",
            "Accuracy after this set of params:  95.7248496520649\n",
            "Accuracy after this set of params:  95.72666654554044\n",
            "Accuracy after this set of params:  95.69214556950526\n",
            "Accuracy after this set of params:  95.76845509547775\n",
            "{'Learning rate': 0.01, 'Batch size': 32, 'model': BinaryClassification(\n",
            "  (layer_1): Linear(in_features=3000, out_features=64, bias=True)\n",
            "  (layer_2): Linear(in_features=64, out_features=64, bias=True)\n",
            "  (layer_out): Linear(in_features=64, out_features=1, bias=True)\n",
            "  (relu): ReLU()\n",
            ")}\n",
            "Best Score: 95.76845509547775%\n"
          ]
        }
      ]
    },
    {
      "cell_type": "code",
      "source": [
        "#Testing our tuned model\n",
        "\n",
        "y_pred_list = []\n",
        "model = best_params.get('model')\n",
        "model.eval()\n",
        "with torch.no_grad():\n",
        "    for X_batch in test_loader:\n",
        "\n",
        "        y_test_pred = model(X_batch)\n",
        "        y_test_pred = torch.sigmoid(y_test_pred)\n",
        "        y_pred_tag = torch.round(y_test_pred)\n",
        "        y_pred_list.append(y_pred_tag.cpu().numpy())\n",
        "\n",
        "y_pred_list = [a.squeeze().tolist() for a in y_pred_list]\n",
        "\n",
        "cm = confusion_matrix(y_test, y_pred_list)\n",
        "res = cm.tolist()\n",
        "acc = (cm[0][0] + cm[1][1] ) * 100/ (cm[0][0] + cm[1][0] + cm[0][1] + cm[1][1] )\n",
        "print(acc)"
      ],
      "metadata": {
        "id": "MoobxxD2cZ5l",
        "colab": {
          "base_uri": "https://localhost:8080/"
        },
        "outputId": "d5a68b7f-9454-43a7-9f3d-7872822528d7"
      },
      "execution_count": null,
      "outputs": [
        {
          "output_type": "stream",
          "name": "stdout",
          "text": [
            "95.65948091824963\n"
          ]
        }
      ]
    },
    {
      "cell_type": "code",
      "source": [
        "b.sentiment = b.sentiment.apply(lambda x :1 if x == 'negative' else 0)"
      ],
      "metadata": {
        "id": "0ZKzyxT9mYUE"
      },
      "execution_count": null,
      "outputs": []
    },
    {
      "cell_type": "code",
      "source": [
        "elections_df = b.loc[:,[\"no_spaces\" ,\"sentiment\"]]\n",
        "elections_df"
      ],
      "metadata": {
        "id": "T0mnCB1xcZs7",
        "colab": {
          "base_uri": "https://localhost:8080/",
          "height": 423
        },
        "outputId": "9599a01d-3376-4a47-ecd2-9c5692a3fbe5"
      },
      "execution_count": null,
      "outputs": [
        {
          "output_type": "execute_result",
          "data": {
            "text/plain": [
              "                                              no_spaces  sentiment\n",
              "0     canadian election power grab pm trudeau yes ta...          1\n",
              "1     hope trudeau loses canadian election tomorrow ...          1\n",
              "2     dear canadians election test progressive are w...          0\n",
              "3     canadian friends never forget trudeau 2 years ...          1\n",
              "4     sorry thejagmeetsingh voted ndp life election ...          0\n",
              "...                                                 ...        ...\n",
              "997   absolutely horrible canada forthcoming electio...          1\n",
              "998   davidakin trudeau imposes gun control policies...          1\n",
              "999   canada election stolen thugs uneducated goons ...          1\n",
              "1000  otoole amends platform gun control questions r...          1\n",
              "1001  justintrudeau stop lies stop manipulation stop...          1\n",
              "\n",
              "[1002 rows x 2 columns]"
            ],
            "text/html": [
              "\n",
              "  <div id=\"df-45be7c2c-56b4-4f8a-9fbf-71f2fe3d87ec\">\n",
              "    <div class=\"colab-df-container\">\n",
              "      <div>\n",
              "<style scoped>\n",
              "    .dataframe tbody tr th:only-of-type {\n",
              "        vertical-align: middle;\n",
              "    }\n",
              "\n",
              "    .dataframe tbody tr th {\n",
              "        vertical-align: top;\n",
              "    }\n",
              "\n",
              "    .dataframe thead th {\n",
              "        text-align: right;\n",
              "    }\n",
              "</style>\n",
              "<table border=\"1\" class=\"dataframe\">\n",
              "  <thead>\n",
              "    <tr style=\"text-align: right;\">\n",
              "      <th></th>\n",
              "      <th>no_spaces</th>\n",
              "      <th>sentiment</th>\n",
              "    </tr>\n",
              "  </thead>\n",
              "  <tbody>\n",
              "    <tr>\n",
              "      <th>0</th>\n",
              "      <td>canadian election power grab pm trudeau yes ta...</td>\n",
              "      <td>1</td>\n",
              "    </tr>\n",
              "    <tr>\n",
              "      <th>1</th>\n",
              "      <td>hope trudeau loses canadian election tomorrow ...</td>\n",
              "      <td>1</td>\n",
              "    </tr>\n",
              "    <tr>\n",
              "      <th>2</th>\n",
              "      <td>dear canadians election test progressive are w...</td>\n",
              "      <td>0</td>\n",
              "    </tr>\n",
              "    <tr>\n",
              "      <th>3</th>\n",
              "      <td>canadian friends never forget trudeau 2 years ...</td>\n",
              "      <td>1</td>\n",
              "    </tr>\n",
              "    <tr>\n",
              "      <th>4</th>\n",
              "      <td>sorry thejagmeetsingh voted ndp life election ...</td>\n",
              "      <td>0</td>\n",
              "    </tr>\n",
              "    <tr>\n",
              "      <th>...</th>\n",
              "      <td>...</td>\n",
              "      <td>...</td>\n",
              "    </tr>\n",
              "    <tr>\n",
              "      <th>997</th>\n",
              "      <td>absolutely horrible canada forthcoming electio...</td>\n",
              "      <td>1</td>\n",
              "    </tr>\n",
              "    <tr>\n",
              "      <th>998</th>\n",
              "      <td>davidakin trudeau imposes gun control policies...</td>\n",
              "      <td>1</td>\n",
              "    </tr>\n",
              "    <tr>\n",
              "      <th>999</th>\n",
              "      <td>canada election stolen thugs uneducated goons ...</td>\n",
              "      <td>1</td>\n",
              "    </tr>\n",
              "    <tr>\n",
              "      <th>1000</th>\n",
              "      <td>otoole amends platform gun control questions r...</td>\n",
              "      <td>1</td>\n",
              "    </tr>\n",
              "    <tr>\n",
              "      <th>1001</th>\n",
              "      <td>justintrudeau stop lies stop manipulation stop...</td>\n",
              "      <td>1</td>\n",
              "    </tr>\n",
              "  </tbody>\n",
              "</table>\n",
              "<p>1002 rows × 2 columns</p>\n",
              "</div>\n",
              "      <button class=\"colab-df-convert\" onclick=\"convertToInteractive('df-45be7c2c-56b4-4f8a-9fbf-71f2fe3d87ec')\"\n",
              "              title=\"Convert this dataframe to an interactive table.\"\n",
              "              style=\"display:none;\">\n",
              "        \n",
              "  <svg xmlns=\"http://www.w3.org/2000/svg\" height=\"24px\"viewBox=\"0 0 24 24\"\n",
              "       width=\"24px\">\n",
              "    <path d=\"M0 0h24v24H0V0z\" fill=\"none\"/>\n",
              "    <path d=\"M18.56 5.44l.94 2.06.94-2.06 2.06-.94-2.06-.94-.94-2.06-.94 2.06-2.06.94zm-11 1L8.5 8.5l.94-2.06 2.06-.94-2.06-.94L8.5 2.5l-.94 2.06-2.06.94zm10 10l.94 2.06.94-2.06 2.06-.94-2.06-.94-.94-2.06-.94 2.06-2.06.94z\"/><path d=\"M17.41 7.96l-1.37-1.37c-.4-.4-.92-.59-1.43-.59-.52 0-1.04.2-1.43.59L10.3 9.45l-7.72 7.72c-.78.78-.78 2.05 0 2.83L4 21.41c.39.39.9.59 1.41.59.51 0 1.02-.2 1.41-.59l7.78-7.78 2.81-2.81c.8-.78.8-2.07 0-2.86zM5.41 20L4 18.59l7.72-7.72 1.47 1.35L5.41 20z\"/>\n",
              "  </svg>\n",
              "      </button>\n",
              "      \n",
              "  <style>\n",
              "    .colab-df-container {\n",
              "      display:flex;\n",
              "      flex-wrap:wrap;\n",
              "      gap: 12px;\n",
              "    }\n",
              "\n",
              "    .colab-df-convert {\n",
              "      background-color: #E8F0FE;\n",
              "      border: none;\n",
              "      border-radius: 50%;\n",
              "      cursor: pointer;\n",
              "      display: none;\n",
              "      fill: #1967D2;\n",
              "      height: 32px;\n",
              "      padding: 0 0 0 0;\n",
              "      width: 32px;\n",
              "    }\n",
              "\n",
              "    .colab-df-convert:hover {\n",
              "      background-color: #E2EBFA;\n",
              "      box-shadow: 0px 1px 2px rgba(60, 64, 67, 0.3), 0px 1px 3px 1px rgba(60, 64, 67, 0.15);\n",
              "      fill: #174EA6;\n",
              "    }\n",
              "\n",
              "    [theme=dark] .colab-df-convert {\n",
              "      background-color: #3B4455;\n",
              "      fill: #D2E3FC;\n",
              "    }\n",
              "\n",
              "    [theme=dark] .colab-df-convert:hover {\n",
              "      background-color: #434B5C;\n",
              "      box-shadow: 0px 1px 3px 1px rgba(0, 0, 0, 0.15);\n",
              "      filter: drop-shadow(0px 1px 2px rgba(0, 0, 0, 0.3));\n",
              "      fill: #FFFFFF;\n",
              "    }\n",
              "  </style>\n",
              "\n",
              "      <script>\n",
              "        const buttonEl =\n",
              "          document.querySelector('#df-45be7c2c-56b4-4f8a-9fbf-71f2fe3d87ec button.colab-df-convert');\n",
              "        buttonEl.style.display =\n",
              "          google.colab.kernel.accessAllowed ? 'block' : 'none';\n",
              "\n",
              "        async function convertToInteractive(key) {\n",
              "          const element = document.querySelector('#df-45be7c2c-56b4-4f8a-9fbf-71f2fe3d87ec');\n",
              "          const dataTable =\n",
              "            await google.colab.kernel.invokeFunction('convertToInteractive',\n",
              "                                                     [key], {});\n",
              "          if (!dataTable) return;\n",
              "\n",
              "          const docLinkHtml = 'Like what you see? Visit the ' +\n",
              "            '<a target=\"_blank\" href=https://colab.research.google.com/notebooks/data_table.ipynb>data table notebook</a>'\n",
              "            + ' to learn more about interactive tables.';\n",
              "          element.innerHTML = '';\n",
              "          dataTable['output_type'] = 'display_data';\n",
              "          await google.colab.output.renderOutput(dataTable, element);\n",
              "          const docLink = document.createElement('div');\n",
              "          docLink.innerHTML = docLinkHtml;\n",
              "          element.appendChild(docLink);\n",
              "        }\n",
              "      </script>\n",
              "    </div>\n",
              "  </div>\n",
              "  "
            ]
          },
          "metadata": {},
          "execution_count": 58
        }
      ]
    },
    {
      "cell_type": "code",
      "source": [
        "X = elections_df.loc[:,\"no_spaces\"]\n",
        "y = elections_df.iloc[:,-1]"
      ],
      "metadata": {
        "id": "_VAzwL_so7AT"
      },
      "execution_count": null,
      "outputs": []
    },
    {
      "cell_type": "code",
      "source": [
        "vectorizer"
      ],
      "metadata": {
        "colab": {
          "base_uri": "https://localhost:8080/"
        },
        "id": "TtvzAWq5k5sA",
        "outputId": "f0fc6d19-3a73-43b4-844f-351d956beda2"
      },
      "execution_count": null,
      "outputs": [
        {
          "output_type": "execute_result",
          "data": {
            "text/plain": [
              "CountVectorizer(max_features=3000)"
            ]
          },
          "metadata": {},
          "execution_count": 60
        }
      ]
    },
    {
      "cell_type": "code",
      "source": [
        "\n",
        "#vectorizer = CountVectorizer(max_features = 5000)\n",
        "\n",
        "#X_elections = vectorizer.fit_transform(X)\n",
        "\n",
        "\n",
        "X_elections = vectorizer.transform(X)\n",
        "\n",
        "Elections_test_data = TestData(torch.FloatTensor(X_elections.toarray()))\n",
        "\n",
        "test_loader = DataLoader(dataset=Elections_test_data, batch_size=1)\n",
        "\n"
      ],
      "metadata": {
        "id": "YSpf1jA3pTE7"
      },
      "execution_count": null,
      "outputs": []
    },
    {
      "cell_type": "code",
      "source": [
        "model = best_params.get('model')\n",
        "\n",
        "y_pred_list = []\n",
        "model.eval()\n",
        "with torch.no_grad():\n",
        "    for X_batch in test_loader:\n",
        "\n",
        "        y_test_pred = model(X_batch)\n",
        "        y_test_pred = torch.sigmoid(y_test_pred)\n",
        "        y_pred_tag = torch.round(y_test_pred)\n",
        "        y_pred_list.append(y_pred_tag.cpu().numpy())\n",
        "\n",
        "y_pred_list = [a.squeeze().tolist() for a in y_pred_list]\n",
        "cm = confusion_matrix(y, y_pred_list)\n",
        "res = cm.tolist()\n",
        "acc = (cm[0][0] + cm[1][1] ) * 100/ (cm[0][0] + cm[1][0] + cm[0][1] + cm[1][1] )\n",
        "print(acc)\n",
        "\n",
        "\n"
      ],
      "metadata": {
        "id": "dhSRF-DYqZ3T",
        "colab": {
          "base_uri": "https://localhost:8080/"
        },
        "outputId": "39ac74cb-7f62-47f2-a33a-29f2ec29cf2f"
      },
      "execution_count": null,
      "outputs": [
        {
          "output_type": "stream",
          "name": "stdout",
          "text": [
            "30.93812375249501\n"
          ]
        }
      ]
    },
    {
      "cell_type": "code",
      "source": [
        "acc"
      ],
      "metadata": {
        "id": "14eycF-fm4XR",
        "colab": {
          "base_uri": "https://localhost:8080/"
        },
        "outputId": "1afb67d2-a6bd-46b9-f021-dc26eb464c9d"
      },
      "execution_count": null,
      "outputs": [
        {
          "output_type": "execute_result",
          "data": {
            "text/plain": [
              "30.93812375249501"
            ]
          },
          "metadata": {},
          "execution_count": 66
        }
      ]
    },
    {
      "cell_type": "markdown",
      "source": [
        "part e"
      ],
      "metadata": {
        "id": "eZsZfgbqv90A"
      }
    },
    {
      "cell_type": "code",
      "source": [
        "viz = b.loc[:,[\"political_party\" ,\"sentiment\"]]\n",
        "viz.loc[:,\"prediction\"] = y_pred_list\n",
        "viz"
      ],
      "metadata": {
        "id": "MrTBhDCOwPZQ",
        "colab": {
          "base_uri": "https://localhost:8080/",
          "height": 423
        },
        "outputId": "4f2e0b97-bb2c-43c4-9ead-889e08dbd814"
      },
      "execution_count": null,
      "outputs": [
        {
          "output_type": "execute_result",
          "data": {
            "text/plain": [
              "     political_party  sentiment  prediction\n",
              "0               None          1         0.0\n",
              "1               None          1         1.0\n",
              "2               None          0         0.0\n",
              "3               None          1         0.0\n",
              "4                ndp          0         0.0\n",
              "...              ...        ...         ...\n",
              "997             None          1         0.0\n",
              "998             None          1         0.0\n",
              "999             None          1         0.0\n",
              "1000            None          1         0.0\n",
              "1001         liberal          1         0.0\n",
              "\n",
              "[1002 rows x 3 columns]"
            ],
            "text/html": [
              "\n",
              "  <div id=\"df-a0590111-44a9-4202-ae31-5c31b491a1f7\">\n",
              "    <div class=\"colab-df-container\">\n",
              "      <div>\n",
              "<style scoped>\n",
              "    .dataframe tbody tr th:only-of-type {\n",
              "        vertical-align: middle;\n",
              "    }\n",
              "\n",
              "    .dataframe tbody tr th {\n",
              "        vertical-align: top;\n",
              "    }\n",
              "\n",
              "    .dataframe thead th {\n",
              "        text-align: right;\n",
              "    }\n",
              "</style>\n",
              "<table border=\"1\" class=\"dataframe\">\n",
              "  <thead>\n",
              "    <tr style=\"text-align: right;\">\n",
              "      <th></th>\n",
              "      <th>political_party</th>\n",
              "      <th>sentiment</th>\n",
              "      <th>prediction</th>\n",
              "    </tr>\n",
              "  </thead>\n",
              "  <tbody>\n",
              "    <tr>\n",
              "      <th>0</th>\n",
              "      <td>None</td>\n",
              "      <td>1</td>\n",
              "      <td>0.0</td>\n",
              "    </tr>\n",
              "    <tr>\n",
              "      <th>1</th>\n",
              "      <td>None</td>\n",
              "      <td>1</td>\n",
              "      <td>1.0</td>\n",
              "    </tr>\n",
              "    <tr>\n",
              "      <th>2</th>\n",
              "      <td>None</td>\n",
              "      <td>0</td>\n",
              "      <td>0.0</td>\n",
              "    </tr>\n",
              "    <tr>\n",
              "      <th>3</th>\n",
              "      <td>None</td>\n",
              "      <td>1</td>\n",
              "      <td>0.0</td>\n",
              "    </tr>\n",
              "    <tr>\n",
              "      <th>4</th>\n",
              "      <td>ndp</td>\n",
              "      <td>0</td>\n",
              "      <td>0.0</td>\n",
              "    </tr>\n",
              "    <tr>\n",
              "      <th>...</th>\n",
              "      <td>...</td>\n",
              "      <td>...</td>\n",
              "      <td>...</td>\n",
              "    </tr>\n",
              "    <tr>\n",
              "      <th>997</th>\n",
              "      <td>None</td>\n",
              "      <td>1</td>\n",
              "      <td>0.0</td>\n",
              "    </tr>\n",
              "    <tr>\n",
              "      <th>998</th>\n",
              "      <td>None</td>\n",
              "      <td>1</td>\n",
              "      <td>0.0</td>\n",
              "    </tr>\n",
              "    <tr>\n",
              "      <th>999</th>\n",
              "      <td>None</td>\n",
              "      <td>1</td>\n",
              "      <td>0.0</td>\n",
              "    </tr>\n",
              "    <tr>\n",
              "      <th>1000</th>\n",
              "      <td>None</td>\n",
              "      <td>1</td>\n",
              "      <td>0.0</td>\n",
              "    </tr>\n",
              "    <tr>\n",
              "      <th>1001</th>\n",
              "      <td>liberal</td>\n",
              "      <td>1</td>\n",
              "      <td>0.0</td>\n",
              "    </tr>\n",
              "  </tbody>\n",
              "</table>\n",
              "<p>1002 rows × 3 columns</p>\n",
              "</div>\n",
              "      <button class=\"colab-df-convert\" onclick=\"convertToInteractive('df-a0590111-44a9-4202-ae31-5c31b491a1f7')\"\n",
              "              title=\"Convert this dataframe to an interactive table.\"\n",
              "              style=\"display:none;\">\n",
              "        \n",
              "  <svg xmlns=\"http://www.w3.org/2000/svg\" height=\"24px\"viewBox=\"0 0 24 24\"\n",
              "       width=\"24px\">\n",
              "    <path d=\"M0 0h24v24H0V0z\" fill=\"none\"/>\n",
              "    <path d=\"M18.56 5.44l.94 2.06.94-2.06 2.06-.94-2.06-.94-.94-2.06-.94 2.06-2.06.94zm-11 1L8.5 8.5l.94-2.06 2.06-.94-2.06-.94L8.5 2.5l-.94 2.06-2.06.94zm10 10l.94 2.06.94-2.06 2.06-.94-2.06-.94-.94-2.06-.94 2.06-2.06.94z\"/><path d=\"M17.41 7.96l-1.37-1.37c-.4-.4-.92-.59-1.43-.59-.52 0-1.04.2-1.43.59L10.3 9.45l-7.72 7.72c-.78.78-.78 2.05 0 2.83L4 21.41c.39.39.9.59 1.41.59.51 0 1.02-.2 1.41-.59l7.78-7.78 2.81-2.81c.8-.78.8-2.07 0-2.86zM5.41 20L4 18.59l7.72-7.72 1.47 1.35L5.41 20z\"/>\n",
              "  </svg>\n",
              "      </button>\n",
              "      \n",
              "  <style>\n",
              "    .colab-df-container {\n",
              "      display:flex;\n",
              "      flex-wrap:wrap;\n",
              "      gap: 12px;\n",
              "    }\n",
              "\n",
              "    .colab-df-convert {\n",
              "      background-color: #E8F0FE;\n",
              "      border: none;\n",
              "      border-radius: 50%;\n",
              "      cursor: pointer;\n",
              "      display: none;\n",
              "      fill: #1967D2;\n",
              "      height: 32px;\n",
              "      padding: 0 0 0 0;\n",
              "      width: 32px;\n",
              "    }\n",
              "\n",
              "    .colab-df-convert:hover {\n",
              "      background-color: #E2EBFA;\n",
              "      box-shadow: 0px 1px 2px rgba(60, 64, 67, 0.3), 0px 1px 3px 1px rgba(60, 64, 67, 0.15);\n",
              "      fill: #174EA6;\n",
              "    }\n",
              "\n",
              "    [theme=dark] .colab-df-convert {\n",
              "      background-color: #3B4455;\n",
              "      fill: #D2E3FC;\n",
              "    }\n",
              "\n",
              "    [theme=dark] .colab-df-convert:hover {\n",
              "      background-color: #434B5C;\n",
              "      box-shadow: 0px 1px 3px 1px rgba(0, 0, 0, 0.15);\n",
              "      filter: drop-shadow(0px 1px 2px rgba(0, 0, 0, 0.3));\n",
              "      fill: #FFFFFF;\n",
              "    }\n",
              "  </style>\n",
              "\n",
              "      <script>\n",
              "        const buttonEl =\n",
              "          document.querySelector('#df-a0590111-44a9-4202-ae31-5c31b491a1f7 button.colab-df-convert');\n",
              "        buttonEl.style.display =\n",
              "          google.colab.kernel.accessAllowed ? 'block' : 'none';\n",
              "\n",
              "        async function convertToInteractive(key) {\n",
              "          const element = document.querySelector('#df-a0590111-44a9-4202-ae31-5c31b491a1f7');\n",
              "          const dataTable =\n",
              "            await google.colab.kernel.invokeFunction('convertToInteractive',\n",
              "                                                     [key], {});\n",
              "          if (!dataTable) return;\n",
              "\n",
              "          const docLinkHtml = 'Like what you see? Visit the ' +\n",
              "            '<a target=\"_blank\" href=https://colab.research.google.com/notebooks/data_table.ipynb>data table notebook</a>'\n",
              "            + ' to learn more about interactive tables.';\n",
              "          element.innerHTML = '';\n",
              "          dataTable['output_type'] = 'display_data';\n",
              "          await google.colab.output.renderOutput(dataTable, element);\n",
              "          const docLink = document.createElement('div');\n",
              "          docLink.innerHTML = docLinkHtml;\n",
              "          element.appendChild(docLink);\n",
              "        }\n",
              "      </script>\n",
              "    </div>\n",
              "  </div>\n",
              "  "
            ]
          },
          "metadata": {},
          "execution_count": 67
        }
      ]
    },
    {
      "cell_type": "code",
      "source": [
        "gps = viz.groupby([\"political_party\"])#.plot(kind = 'bar',color = 'b')\n",
        "ll = viz.political_party.tolist()\n",
        "val = list(set(list(filter( lambda x: x is not None, ll))))\n",
        "dff = pd.DataFrame(columns = ['political_party', 'label', 'true', 'pred'], index = range(2*len(gps)))\n",
        "print(val)\n",
        "\n",
        "i=0\n",
        "for party in val:\n",
        "  df_temp = gps.get_group(party)\n",
        "  true_val_grouped = df_temp.groupby('sentiment')\n",
        "  true_0 = len(true_val_grouped.get_group(0)) if 0 in true_val_grouped.groups.keys() else 0\n",
        "  true_1 = len(true_val_grouped.get_group(1)) if 1 in true_val_grouped.groups.keys() else 0\n",
        "  pred_val_grouped = df_temp.groupby('prediction')\n",
        "  pred_0 = len(pred_val_grouped.get_group(0)) if 0 in pred_val_grouped.groups.keys() else 0\n",
        "  pred_1 = len(pred_val_grouped.get_group(1)) if 1 in pred_val_grouped.groups.keys() else 0\n",
        "  dff.iloc[i, :] = [party, 0, true_0, pred_0]\n",
        "  i = i + 1\n",
        "  dff.iloc[i, :] = [party, 1, true_1, pred_1]\n",
        "  i = i + 1\n",
        "print(dff)"
      ],
      "metadata": {
        "id": "tarjJGOhoo-U",
        "colab": {
          "base_uri": "https://localhost:8080/"
        },
        "outputId": "85a77edc-4aec-4020-e617-337e100ed1ef"
      },
      "execution_count": null,
      "outputs": [
        {
          "output_type": "stream",
          "name": "stdout",
          "text": [
            "['ndp', 'ppc', 'liberal', 'conservative']\n",
            "  political_party label true pred\n",
            "0             ndp     0   25   15\n",
            "1             ndp     1    6   16\n",
            "2             ppc     0   20    9\n",
            "3             ppc     1    4   15\n",
            "4         liberal     0  136  166\n",
            "5         liberal     1  103   73\n",
            "6    conservative     0    5    8\n",
            "7    conservative     1    6    3\n"
          ]
        }
      ]
    },
    {
      "cell_type": "code",
      "source": [
        "# Plotting ndp\n",
        "dff.iloc[:2, -2:].plot(kind='bar')"
      ],
      "metadata": {
        "id": "zYwBezl-FvLj",
        "colab": {
          "base_uri": "https://localhost:8080/",
          "height": 279
        },
        "outputId": "e66fe25e-992a-488c-f172-a4cadb9a9a37"
      },
      "execution_count": null,
      "outputs": [
        {
          "output_type": "execute_result",
          "data": {
            "text/plain": [
              "<matplotlib.axes._subplots.AxesSubplot at 0x7f244529a050>"
            ]
          },
          "metadata": {},
          "execution_count": 69
        },
        {
          "output_type": "display_data",
          "data": {
            "text/plain": [
              "<Figure size 432x288 with 1 Axes>"
            ],
            "image/png": "[encoded data removed]"
          },
          "metadata": {
            "needs_background": "light"
          }
        }
      ]
    },
    {
      "cell_type": "code",
      "source": [
        "#plotting liberal\n",
        "dff.iloc[2:4, -2:].plot(kind='bar')"
      ],
      "metadata": {
        "id": "BqTwHdg8P_RR",
        "colab": {
          "base_uri": "https://localhost:8080/",
          "height": 279
        },
        "outputId": "bb3e0b8e-9156-4530-93b2-37dfdc132abe"
      },
      "execution_count": null,
      "outputs": [
        {
          "output_type": "execute_result",
          "data": {
            "text/plain": [
              "<matplotlib.axes._subplots.AxesSubplot at 0x7f243ae9ba10>"
            ]
          },
          "metadata": {},
          "execution_count": 70
        },
        {
          "output_type": "display_data",
          "data": {
            "text/plain": [
              "<Figure size 432x288 with 1 Axes>"
            ],
            "image/png": "[encoded data removed]"
          },
          "metadata": {
            "needs_background": "light"
          }
        }
      ]
    },
    {
      "cell_type": "code",
      "source": [
        "#plotting conservative\n",
        "dff.iloc[4:6, -2:].plot(kind='bar')"
      ],
      "metadata": {
        "id": "ChLsmlR7rNI_",
        "colab": {
          "base_uri": "https://localhost:8080/",
          "height": 279
        },
        "outputId": "893d0a02-bbdb-4a27-a3cd-07b396194119"
      },
      "execution_count": null,
      "outputs": [
        {
          "output_type": "execute_result",
          "data": {
            "text/plain": [
              "<matplotlib.axes._subplots.AxesSubplot at 0x7f24414b6150>"
            ]
          },
          "metadata": {},
          "execution_count": 71
        },
        {
          "output_type": "display_data",
          "data": {
            "text/plain": [
              "<Figure size 432x288 with 1 Axes>"
            ],
            "image/png": "[encoded data removed]"
          },
          "metadata": {
            "needs_background": "light"
          }
        }
      ]
    },
    {
      "cell_type": "code",
      "source": [
        "# plotting NDP\n",
        "dff.iloc[6:8, -2:].plot(kind='bar')"
      ],
      "metadata": {
        "id": "7H5tnukVtsoc",
        "colab": {
          "base_uri": "https://localhost:8080/",
          "height": 279
        },
        "outputId": "62f5a7ba-c6d4-4a98-eeda-9a80f246b7b3"
      },
      "execution_count": null,
      "outputs": [
        {
          "output_type": "execute_result",
          "data": {
            "text/plain": [
              "<matplotlib.axes._subplots.AxesSubplot at 0x7f2441556a50>"
            ]
          },
          "metadata": {},
          "execution_count": 72
        },
        {
          "output_type": "display_data",
          "data": {
            "text/plain": [
              "<Figure size 432x288 with 1 Axes>"
            ],
            "image/png": "[encoded data removed]"
          },
          "metadata": {
            "needs_background": "light"
          }
        }
      ]
    },
    {
      "cell_type": "markdown",
      "source": [
        "# **4. Negative Reason Classification**"
      ],
      "metadata": {
        "id": "NciRV8uZ5oLe"
      }
    },
    {
      "cell_type": "code",
      "source": [
        "elections_df = b.loc[:,[\"no_spaces\" ,\"sentiment\",\"negative_reason\"]]\n",
        "elections_df.dropna(inplace=True)\n",
        "elections_df[elections_df.sentiment == 1]\n",
        "elections_df.drop(\"sentiment\",axis = 1, inplace = True)\n"
      ],
      "metadata": {
        "id": "fYZRPG4L5n2x"
      },
      "execution_count": null,
      "outputs": []
    },
    {
      "cell_type": "code",
      "source": [
        "elections_df.negative_reason.unique()"
      ],
      "metadata": {
        "id": "EkMLRKUhR83G",
        "colab": {
          "base_uri": "https://localhost:8080/"
        },
        "outputId": "ff5e405b-c2b9-425e-9632-e369f7912d78"
      },
      "execution_count": null,
      "outputs": [
        {
          "output_type": "execute_result",
          "data": {
            "text/plain": [
              "array(['calling election early', 'covid ', 'others', 'scandal',\n",
              "       'tell lies', 'gun control', 'economy', 'healthcare and marijuana',\n",
              "       'segregation', 'women reproductive right and racism',\n",
              "       'climate problem'], dtype=object)"
            ]
          },
          "metadata": {},
          "execution_count": 74
        }
      ]
    },
    {
      "cell_type": "code",
      "source": [
        "elections_df['negative_reason'].replace(['segregation', 'tell lies','scandal','calling election early']\n",
        "                                    ,[\"Personal_opinion\",\"Personal_opinion\",\"Personal_opinion\",\"Personal_opinion\"],inplace=True)\n",
        "elections_df['negative_reason'].replace(['covid ', 'healthcare and marijuana']\n",
        "                                    ,[\"health_related\",\"health_related\"],inplace=True)"
      ],
      "metadata": {
        "id": "DLvVa_D6Sj_e"
      },
      "execution_count": null,
      "outputs": []
    },
    {
      "cell_type": "code",
      "source": [
        "le = preprocessing.LabelEncoder()\n",
        "elections_df.negative_reason = le.fit_transform(elections_df.negative_reason)"
      ],
      "metadata": {
        "id": "GANy5cn_R8HG"
      },
      "execution_count": null,
      "outputs": []
    },
    {
      "cell_type": "code",
      "source": [
        "elections_df.negative_reason.unique()"
      ],
      "metadata": {
        "id": "sIBe1y8IWSIj",
        "colab": {
          "base_uri": "https://localhost:8080/"
        },
        "outputId": "daca73f3-fc36-4b37-dc1f-43d00f547ae4"
      },
      "execution_count": null,
      "outputs": [
        {
          "output_type": "execute_result",
          "data": {
            "text/plain": [
              "array([0, 4, 5, 3, 2, 6, 1])"
            ]
          },
          "metadata": {},
          "execution_count": 77
        }
      ]
    },
    {
      "cell_type": "code",
      "source": [
        "X = elections_df.loc[:,\"no_spaces\"]\n",
        "y = elections_df.iloc[:,-1]\n",
        "X_train, X_test, y_train, y_test = train_test_split(X,y,test_size=0.3)"
      ],
      "metadata": {
        "id": "aOYZ6peIAa2W"
      },
      "execution_count": null,
      "outputs": []
    },
    {
      "cell_type": "code",
      "source": [
        "vectorizer = TfidfVectorizer(max_features = 5000)\n",
        "vectors_train = vectorizer.fit_transform(X_train)\n",
        "vectors_test = vectorizer.transform(X_test)\n",
        "feature_names = vectorizer.get_feature_names()\n",
        "\n",
        "#dense = vectors_train.todense()\n",
        "#denselist = dense.tolist()\n",
        "#X_train = pd.DataFrame(denselist, columns =feature_names )\n",
        "\n",
        "#dense = vectors_test.todense()\n",
        "#denselist = dense.tolist()\n",
        "#X_test = pd.DataFrame(denselist, columns =feature_names )\n",
        "X_train = vectors_train\n",
        "X_test = vectors_test"
      ],
      "metadata": {
        "id": "szSUSYXz8ZlD",
        "colab": {
          "base_uri": "https://localhost:8080/"
        },
        "outputId": "9d2a2bc6-3485-4738-c6ba-d761c7a7822a"
      },
      "execution_count": null,
      "outputs": [
        {
          "output_type": "stream",
          "name": "stderr",
          "text": [
            "/usr/local/lib/python3.7/dist-packages/sklearn/utils/deprecation.py:87: FutureWarning: Function get_feature_names is deprecated; get_feature_names is deprecated in 1.0 and will be removed in 1.2. Please use get_feature_names_out instead.\n",
            "  warnings.warn(msg, category=FutureWarning)\n"
          ]
        }
      ]
    },
    {
      "cell_type": "code",
      "source": [
        "y.unique()"
      ],
      "metadata": {
        "id": "283WdF2-MGIc",
        "colab": {
          "base_uri": "https://localhost:8080/"
        },
        "outputId": "094950e0-675e-4b7d-9134-89f7508cd55a"
      },
      "execution_count": null,
      "outputs": [
        {
          "output_type": "execute_result",
          "data": {
            "text/plain": [
              "array([0, 4, 5, 3, 2, 6, 1])"
            ]
          },
          "metadata": {},
          "execution_count": 80
        }
      ]
    },
    {
      "cell_type": "code",
      "source": [
        "\n",
        "# define the multinomial logistic regression model\n",
        "model = LogisticRegression(multi_class='multinomial', solver='lbfgs')\n",
        "model.fit(X_train, y_train)\n"
      ],
      "metadata": {
        "id": "mUzaEsos9fih",
        "colab": {
          "base_uri": "https://localhost:8080/"
        },
        "outputId": "f1114277-4518-4bfc-94d4-eed7ef850e40"
      },
      "execution_count": null,
      "outputs": [
        {
          "output_type": "execute_result",
          "data": {
            "text/plain": [
              "LogisticRegression(multi_class='multinomial')"
            ]
          },
          "metadata": {},
          "execution_count": 81
        }
      ]
    },
    {
      "cell_type": "code",
      "source": [
        "yhat = model.predict(X_test)"
      ],
      "metadata": {
        "id": "mdWuXxkDBBa5"
      },
      "execution_count": null,
      "outputs": []
    },
    {
      "cell_type": "code",
      "source": [
        "accuracy_score(y_test, yhat)"
      ],
      "metadata": {
        "id": "qTelWy2XBGhl",
        "colab": {
          "base_uri": "https://localhost:8080/"
        },
        "outputId": "c1682203-5b71-4c7a-c81d-b174ab4da3ac"
      },
      "execution_count": null,
      "outputs": [
        {
          "output_type": "execute_result",
          "data": {
            "text/plain": [
              "0.5213675213675214"
            ]
          },
          "metadata": {},
          "execution_count": 83
        }
      ]
    },
    {
      "cell_type": "code",
      "source": [
        "yhat"
      ],
      "metadata": {
        "id": "o9sml62xHcI3",
        "colab": {
          "base_uri": "https://localhost:8080/"
        },
        "outputId": "fcb37532-c621-4435-a181-349fedfe4b68"
      },
      "execution_count": null,
      "outputs": [
        {
          "output_type": "execute_result",
          "data": {
            "text/plain": [
              "array([5, 5, 0, 0, 5, 5, 5, 5, 5, 5, 5, 0, 0, 5, 5, 0, 5, 0, 5, 5, 0, 5,\n",
              "       0, 5, 5, 5, 5, 5, 0, 0, 0, 5, 5, 5, 0, 5, 0, 5, 5, 0, 5, 5, 0, 0,\n",
              "       0, 0, 5, 0, 5, 5, 0, 5, 0, 0, 5, 0, 5, 5, 0, 0, 5, 5, 5, 5, 5, 5,\n",
              "       0, 0, 5, 5, 5, 5, 0, 5, 0, 5, 5, 5, 0, 0, 0, 5, 0, 0, 0, 5, 0, 0,\n",
              "       5, 5, 5, 5, 5, 5, 5, 0, 5, 0, 0, 5, 5, 5, 5, 0, 5, 5, 5, 5, 5, 5,\n",
              "       0, 0, 5, 5, 5, 0, 0])"
            ]
          },
          "metadata": {},
          "execution_count": 84
        }
      ]
    },
    {
      "cell_type": "code",
      "source": [
        "#accuracy of TF-IDF model\n",
        "def get_reason_accuracy(model, X_train, X_test, y_train, y_test, C, solver):\n",
        "    \n",
        "    dic = {'lr':'Logistic Regression',\n",
        "          'nb':'Naive Bayes',\n",
        "          'rf':'Random Forest'}\n",
        "    \n",
        "    train_acc, test_acc = [], []\n",
        "    \n",
        "    if model == 'lr':\n",
        "        clf = OneVsRestClassifier(LogisticRegression(C=C ,solver=solver,multi_class='ovr'))\n",
        "    elif model == 'nb':\n",
        "        clf = OneVsRestClassifier(MultinomialNB(alpha=20))\n",
        "    elif model == 'rf':\n",
        "        clf = OneVsRestClassifier(RandomForestClassifier(max_depth=200,min_samples_split=20))\n",
        "    else:\n",
        "        print('Model doesn\\'t exist')\n",
        "\n",
        "    clf.fit(X_train, y_train)\n",
        "\n",
        "    # predict using train data\n",
        "    train_pred = clf.predict(X_train)\n",
        "    train_acc = accuracy_score(y_train, train_pred)\n",
        "    ps = f1_score(y_train, train_pred,average='micro')\n",
        "    \n",
        "    # predict using test data\n",
        "    test_pred = clf.predict(X_test)\n",
        "    test_acc = accuracy_score(y_test, test_pred)   \n",
        " \n",
        "    #print(\"Model: \", dic[model])\n",
        "    #print(\"\\nTraining accuracy is: {}%\".format(round(train_acc*100,2)))\n",
        "    #print(\"\\nTest accuracy is: {}%\".format(round(test_acc*100,2)))\n",
        "    #print(\"\\nPrecision is:\",ps)\n",
        "    \n",
        "    return round(train_acc*100,2), round(test_acc*100,2),ps"
      ],
      "metadata": {
        "id": "3io8-_doJ_Nr"
      },
      "execution_count": null,
      "outputs": []
    },
    {
      "cell_type": "code",
      "source": [
        "train_acc_lr, test_acc_lr, f= get_reason_accuracy('lr',X_train, X_test, y_train, y_test,0.01,'lbfgs')"
      ],
      "metadata": {
        "id": "gywWoy1QK4CC"
      },
      "execution_count": null,
      "outputs": []
    },
    {
      "cell_type": "code",
      "source": [
        "f"
      ],
      "metadata": {
        "id": "tV63Jinz-aW0",
        "colab": {
          "base_uri": "https://localhost:8080/"
        },
        "outputId": "ff30da7c-9ae6-4dae-fe6e-4219ee1c47f6"
      },
      "execution_count": null,
      "outputs": [
        {
          "output_type": "execute_result",
          "data": {
            "text/plain": [
              "0.3888888888888889"
            ]
          },
          "metadata": {},
          "execution_count": 88
        }
      ]
    },
    {
      "cell_type": "code",
      "source": [
        "#hyperparameter tuning with grid search\n",
        "\n",
        "\n",
        "best_params = {}\n",
        "best_accuracy = 0\n",
        "\n",
        "\n",
        "for C in [0.01,0.1,0.005]:\n",
        "\n",
        "    for solver in ['lbfgs','newton-cg','liblinear']:\n",
        "\n",
        "      train_accuracy ,test_accuracy, F1 = get_reason_accuracy('lr',X_train, X_test, y_train, y_test,C,solver)\n",
        "      print(\"C= \", C, \"| Solver= \", solver, \"| F1 score= \", F1)\n",
        "      if F1 > best_accuracy:\n",
        "\n",
        "        best_params = {'C':C, 'solver':solver}\n",
        "\n",
        "        best_accuracy = F1\n",
        "\n",
        "\n",
        "\n",
        "print (best_params)    \n",
        "\n",
        "print (\"\\nThe optimal log model uses C={}, and a {} solver, and has a accuracy of {}%\".format(best_params['C'],best_params['solver'],round(best_accuracy,3),))\n"
      ],
      "metadata": {
        "id": "2UXVreKm6aQq",
        "colab": {
          "base_uri": "https://localhost:8080/"
        },
        "outputId": "e41b586c-8b19-410c-db2c-455565055213"
      },
      "execution_count": null,
      "outputs": [
        {
          "output_type": "stream",
          "name": "stdout",
          "text": [
            "C=  0.01 | Solver=  lbfgs | F1 score=  0.3888888888888889\n",
            "C=  0.01 | Solver=  newton-cg | F1 score=  0.3888888888888889\n",
            "C=  0.01 | Solver=  liblinear | F1 score=  0.3888888888888889\n",
            "C=  0.1 | Solver=  lbfgs | F1 score=  0.5333333333333333\n",
            "C=  0.1 | Solver=  newton-cg | F1 score=  0.5333333333333333\n",
            "C=  0.1 | Solver=  liblinear | F1 score=  0.5740740740740741\n",
            "C=  0.005 | Solver=  lbfgs | F1 score=  0.3888888888888889\n",
            "C=  0.005 | Solver=  newton-cg | F1 score=  0.3888888888888889\n",
            "C=  0.005 | Solver=  liblinear | F1 score=  0.3888888888888889\n",
            "{'C': 0.1, 'solver': 'liblinear'}\n",
            "\n",
            "The optimal log model uses C=0.1, and a liblinear solver, and has a accuracy of 0.574%\n"
          ]
        }
      ]
    },
    {
      "cell_type": "code",
      "source": [],
      "metadata": {
        "id": "EmHn4Wbsbf5K"
      },
      "execution_count": null,
      "outputs": []
    }
  ],
  "metadata": {
    "colab": {
      "provenance": []
    },
    "kernelspec": {
      "display_name": "Python 3",
      "name": "python3"
    },
    "language_info": {
      "name": "python"
    }
  },
  "nbformat": 4,
  "nbformat_minor": 0
}